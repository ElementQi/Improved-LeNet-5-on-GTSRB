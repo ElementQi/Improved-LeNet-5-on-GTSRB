{
 "cells": [
  {
   "cell_type": "markdown",
   "metadata": {},
   "source": [
    "# load the data"
   ]
  },
  {
   "cell_type": "code",
   "execution_count": 1,
   "metadata": {
    "ExecuteTime": {
     "end_time": "2021-11-29T17:16:51.645735Z",
     "start_time": "2021-11-29T17:16:49.254125Z"
    }
   },
   "outputs": [
    {
     "name": "stderr",
     "output_type": "stream",
     "text": [
      "Using TensorFlow backend.\n"
     ]
    }
   ],
   "source": [
    "import csv\n",
    "import pandas as pd\n",
    "import numpy as np\n",
    "from skimage import exposure\n",
    "import matplotlib.pyplot as plt\n",
    "from keras.preprocessing.image import load_img, img_to_array, array_to_img\n",
    "from sklearn.model_selection import train_test_split\n",
    "from matplotlib.pyplot import MultipleLocator\n",
    "import warnings\n",
    "warnings.filterwarnings(\"ignore\")"
   ]
  },
  {
   "cell_type": "code",
   "execution_count": 2,
   "metadata": {
    "ExecuteTime": {
     "end_time": "2021-11-29T17:16:51.654706Z",
     "start_time": "2021-11-29T17:16:51.646728Z"
    }
   },
   "outputs": [],
   "source": [
    "# The German Traffic Sign Recognition Benchmark\n",
    "# function for reading the images\n",
    "# arguments: path to the traffic sign data, for example './GTSRB/Training'\n",
    "# returns: list of images, list of corresponding labels \n",
    "# grayscale type image can not be shown by plt.imshow function\n",
    "# image array: for int: [0..255], for float: [0..1]\n",
    "def readTrafficSigns(rootpath, img_size=(32,32), val_size=0.2, grayscale=True):\n",
    "    '''Reads traffic sign data for German Traffic Sign Recognition Benchmark.\n",
    "    \n",
    "    Loads an image from file, resize to img_size and return as numpy array.\n",
    "    Values are normalized to range [0,1].\n",
    "    :param img: image path\n",
    "    :param img_size: image size as tuple (width, height)\n",
    "    :return: ndarray (width, height, 3) or (width, height)\n",
    "    \n",
    "    Arguments: path to the traffic sign data, for example './GTSRB/Training'\n",
    "    Returns:   list of images, list of corresponding labels\n",
    "    '''\n",
    "    \n",
    "    images_train = [] # images\n",
    "    images_val = [] # images\n",
    "    \n",
    "    labels_train = [] # corresponding labels\n",
    "    labels_val = [] # corresponding labels\n",
    "    # loop over all 43 classes\n",
    "    for c in range(0,43):\n",
    "        prefix = rootpath + '/' + format(c, '05d') + '/' # subdirectory for class\n",
    "        gtFile = open(prefix + 'GT-'+ format(c, '05d') + '.csv') # annotations file\n",
    "        gtReader = csv.reader(gtFile, delimiter=';') # csv parser for annotations file\n",
    "        next(gtReader) # skip header\n",
    "        # loop over all images in current annotations file\n",
    "        imglist=[]\n",
    "        labelist=[]\n",
    "        \n",
    "        for row in gtReader:\n",
    "            img = prefix + row[0]\n",
    "            if grayscale == True:\n",
    "                img = load_img(img, target_size=img_size, color_mode='grayscale')\n",
    "            else:\n",
    "                img = load_img(img, target_size=img_size, color_mode='rgb')\n",
    "\n",
    "            img = img_to_array(img)\n",
    "            img = img/255\n",
    "            img = img.clip(0, 1)\n",
    "            img = exposure.equalize_hist(img)\n",
    "            \n",
    "            label=int(row[7])\n",
    "            imglist.append(img)\n",
    "            labelist.append(label)\n",
    "            \n",
    "        X_train, X_val, y_train, y_val = train_test_split(imglist, labelist, test_size=val_size, random_state=42)\n",
    "        \n",
    "        images_train.extend(X_train)\n",
    "        images_val.extend(X_val)\n",
    "        \n",
    "        labels_train.extend(y_train)\n",
    "        labels_val.extend(y_val)\n",
    "        \n",
    "        gtFile.close()\n",
    "    return np.array(images_train), np.array(images_val), labels_train, labels_val"
   ]
  },
  {
   "cell_type": "code",
   "execution_count": 3,
   "metadata": {
    "ExecuteTime": {
     "end_time": "2021-11-29T17:16:51.701585Z",
     "start_time": "2021-11-29T17:16:51.655705Z"
    }
   },
   "outputs": [],
   "source": [
    "def readTrafficSigns_test(rootpath, img_size=(32,32), grayscale=True):\n",
    "    images = [] # images\n",
    "    labels = [] # corresponding labels\n",
    "    \n",
    "    gtFile = open(rootpath+\"/GT-final_test.csv\") # annotations file\n",
    "    gtReader = csv.reader(gtFile, delimiter=';') # csv parser for annotations file\n",
    "    next(gtReader) # skip header\n",
    "    # loop over all images in current annotations file\n",
    "    for row in gtReader:\n",
    "        img = rootpath + '/' + row[0]\n",
    "        if grayscale == True:\n",
    "            img = load_img(img, target_size=img_size, color_mode='grayscale')\n",
    "        else:\n",
    "            img = load_img(img, target_size=img_size, color_mode='rgb')\n",
    "\n",
    "        img = img_to_array(img)\n",
    "        img = img/255\n",
    "        img = img.clip(0, 1)\n",
    "        img = exposure.equalize_hist(img)\n",
    "\n",
    "        images.append(img)\n",
    "        labels.append(int(row[7])) # the 8th column is the label\n",
    "    gtFile.close()\n",
    "    return np.array(images), labels"
   ]
  },
  {
   "cell_type": "code",
   "execution_count": 4,
   "metadata": {
    "ExecuteTime": {
     "end_time": "2021-11-29T17:16:51.744471Z",
     "start_time": "2021-11-29T17:16:51.702578Z"
    }
   },
   "outputs": [],
   "source": [
    "signnames_file = 'C:/Users/ElementQi/Desktop/dataScienceProgramming/pythonProject/data/GTSRB/signnames.csv'\n",
    "with open(signnames_file) as f:\n",
    "    f.readline() # Strip the header\n",
    "    tuples = [line.strip().split(',') for line in f]\n",
    "    sign_names = {int(t[0]): t[1] for t in tuples}"
   ]
  },
  {
   "cell_type": "code",
   "execution_count": 5,
   "metadata": {
    "ExecuteTime": {
     "end_time": "2021-11-29T17:16:51.781368Z",
     "start_time": "2021-11-29T17:16:51.745464Z"
    },
    "scrolled": true
   },
   "outputs": [
    {
     "data": {
      "text/plain": [
       "{0: 'Speed limit (20km/h)',\n",
       " 1: 'Speed limit (30km/h)',\n",
       " 2: 'Speed limit (50km/h)',\n",
       " 3: 'Speed limit (60km/h)',\n",
       " 4: 'Speed limit (70km/h)',\n",
       " 5: 'Speed limit (80km/h)',\n",
       " 6: 'End of speed limit (80km/h)',\n",
       " 7: 'Speed limit (100km/h)',\n",
       " 8: 'Speed limit (120km/h)',\n",
       " 9: 'No passing',\n",
       " 10: 'No passing for vechiles over 3.5 metric tons',\n",
       " 11: 'Right-of-way at the next intersection',\n",
       " 12: 'Priority road',\n",
       " 13: 'Yield',\n",
       " 14: 'Stop',\n",
       " 15: 'No vechiles',\n",
       " 16: 'Vechiles over 3.5 metric tons prohibited',\n",
       " 17: 'No entry',\n",
       " 18: 'General caution',\n",
       " 19: 'Dangerous curve to the left',\n",
       " 20: 'Dangerous curve to the right',\n",
       " 21: 'Double curve',\n",
       " 22: 'Bumpy road',\n",
       " 23: 'Slippery road',\n",
       " 24: 'Road narrows on the right',\n",
       " 25: 'Road work',\n",
       " 26: 'Traffic signals',\n",
       " 27: 'Pedestrians',\n",
       " 28: 'Children crossing',\n",
       " 29: 'Bicycles crossing',\n",
       " 30: 'Beware of ice/snow',\n",
       " 31: 'Wild animals crossing',\n",
       " 32: 'End of all speed and passing limits',\n",
       " 33: 'Turn right ahead',\n",
       " 34: 'Turn left ahead',\n",
       " 35: 'Ahead only',\n",
       " 36: 'Go straight or right',\n",
       " 37: 'Go straight or left',\n",
       " 38: 'Keep right',\n",
       " 39: 'Keep left',\n",
       " 40: 'Roundabout mandatory',\n",
       " 41: 'End of no passing',\n",
       " 42: 'End of no passing by vechiles over 3.5 metric tons'}"
      ]
     },
     "execution_count": 5,
     "metadata": {},
     "output_type": "execute_result"
    }
   ],
   "source": [
    "sign_names"
   ]
  },
  {
   "cell_type": "code",
   "execution_count": 6,
   "metadata": {
    "ExecuteTime": {
     "end_time": "2021-11-29T17:17:08.973426Z",
     "start_time": "2021-11-29T17:16:51.782365Z"
    }
   },
   "outputs": [],
   "source": [
    "train_path = '../data/GTSRB/Final_Training/Images'\n",
    "img_size = (32,32)\n",
    "gray=True\n",
    "val_size=0.2\n",
    "X_train, X_val, y_train, y_val = readTrafficSigns(train_path, img_size=img_size, grayscale=gray, val_size=val_size)"
   ]
  },
  {
   "cell_type": "code",
   "execution_count": 7,
   "metadata": {
    "ExecuteTime": {
     "end_time": "2021-11-29T17:17:14.375965Z",
     "start_time": "2021-11-29T17:17:08.974401Z"
    }
   },
   "outputs": [],
   "source": [
    "test_path = '../data/GTSRB/Final_Test/Images'\n",
    "\n",
    "img_size = (32,32)\n",
    "gray=True\n",
    "X_test, y_test = readTrafficSigns_test(test_path, img_size=img_size, grayscale=gray)"
   ]
  },
  {
   "cell_type": "code",
   "execution_count": 8,
   "metadata": {
    "ExecuteTime": {
     "end_time": "2021-11-29T17:17:14.383939Z",
     "start_time": "2021-11-29T17:17:14.377954Z"
    }
   },
   "outputs": [
    {
     "name": "stdout",
     "output_type": "stream",
     "text": [
      "Number of training examples = 31367\n",
      "Number of validation examples = 7842\n",
      "Number of testing examples = 12630\n",
      "Image data shape = (32, 32, 1)\n",
      "Class number = 43\n"
     ]
    }
   ],
   "source": [
    "n_train = len(X_train)\n",
    "n_val = len(X_val)\n",
    "n_test = len(X_test)\n",
    "image_shape = X_train[0].shape\n",
    "n_classes = len(set(y_train))\n",
    "\n",
    "print(\"Number of training examples =\", n_train)\n",
    "print(\"Number of validation examples =\", n_val)\n",
    "print(\"Number of testing examples =\", n_test)\n",
    "print(\"Image data shape =\", image_shape)\n",
    "print(\"Class number =\", n_classes)"
   ]
  },
  {
   "cell_type": "code",
   "execution_count": 9,
   "metadata": {
    "ExecuteTime": {
     "end_time": "2021-11-29T17:17:14.485690Z",
     "start_time": "2021-11-29T17:17:14.384936Z"
    }
   },
   "outputs": [
    {
     "data": {
      "image/png": "[encoded data removed]",
      "text/plain": [
       "<Figure size 432x288 with 1 Axes>"
      ]
     },
     "metadata": {
      "needs_background": "light"
     },
     "output_type": "display_data"
    }
   ],
   "source": [
    "plt.imshow(array_to_img(X_train[31366]), cmap='gray')\n",
    "plt.show()"
   ]
  },
  {
   "cell_type": "markdown",
   "metadata": {},
   "source": [
    "# Include an exploratory visualization of the dataset"
   ]
  },
  {
   "cell_type": "code",
   "execution_count": 10,
   "metadata": {
    "ExecuteTime": {
     "end_time": "2021-11-29T17:17:15.209731Z",
     "start_time": "2021-11-29T17:17:14.486663Z"
    }
   },
   "outputs": [
    {
     "data": {
      "image/png": "[encoded data removed]",
      "text/plain": [
       "<Figure size 1080x288 with 1 Axes>"
      ]
     },
     "metadata": {
      "needs_background": "light"
     },
     "output_type": "display_data"
    },
    {
     "data": {
      "image/png": "[encoded data removed]",
      "text/plain": [
       "<Figure size 1080x288 with 1 Axes>"
      ]
     },
     "metadata": {
      "needs_background": "light"
     },
     "output_type": "display_data"
    },
    {
     "data": {
      "image/png": "[encoded data removed]",
      "text/plain": [
       "<Figure size 1080x288 with 1 Axes>"
      ]
     },
     "metadata": {
      "needs_background": "light"
     },
     "output_type": "display_data"
    }
   ],
   "source": [
    "### Data exploration visualization code goes here.\n",
    "\n",
    "# Plot Training / Test summary counts\n",
    "for (data, name) in [[y_train, \"training\"], [y_val, \"val\"], [y_test, \"test\"]]:\n",
    "    df = pd.DataFrame({'label': data})\n",
    "    counts = df.groupby(['label']).agg({'label': 'count'})\n",
    "    counts.plot(kind='bar', title=\"counts of each sign in %s data\" % name, figsize=(15,4), rot=0)\n",
    "    plt.xlabel(\"sign\")\n",
    "    plt.show()"
   ]
  },
  {
   "cell_type": "code",
   "execution_count": 11,
   "metadata": {
    "ExecuteTime": {
     "end_time": "2021-11-29T17:17:15.213746Z",
     "start_time": "2021-11-29T17:17:15.210728Z"
    }
   },
   "outputs": [],
   "source": [
    "# # Gather 5 Example images per label\n",
    "# examples_per_sign = 5\n",
    "# total = 0\n",
    "# example = {}\n",
    "# for (img,label) in zip(X_train, y_train):\n",
    "#     example.setdefault(label, [])\n",
    "#     if len(example[label]) < examples_per_sign:\n",
    "#         example[label].append(img)\n",
    "#         total += 1\n",
    "#     if total == n_classes * examples_per_sign:\n",
    "#         break;\n",
    "\n",
    "# for label in sorted(example.keys()):\n",
    "#     fig = plt.figure()\n",
    "#     print(sign_names[label])\n",
    "#     for i in range(examples_per_sign):\n",
    "#         plt.subplot(1,examples_per_sign,i+1)\n",
    "#         plt.imshow(example[label][i])\n",
    "#     plt.show()"
   ]
  },
  {
   "cell_type": "markdown",
   "metadata": {},
   "source": [
    "# Model"
   ]
  },
  {
   "cell_type": "code",
   "execution_count": 12,
   "metadata": {
    "ExecuteTime": {
     "end_time": "2021-11-29T17:17:15.224691Z",
     "start_time": "2021-11-29T17:17:15.214717Z"
    }
   },
   "outputs": [],
   "source": [
    "from keras.models import Sequential\n",
    "# from keras.optimizers import adadelta_v2\n",
    "from tensorflow.keras.optimizers import Adadelta\n",
    "from keras.layers import Dense,Flatten,Dropout,BatchNormalization\n",
    "from keras.layers.advanced_activations import LeakyReLU\n",
    "from keras.layers.convolutional import Conv2D,MaxPooling2D\n",
    "from keras.utils.np_utils import to_categorical\n",
    "from keras.datasets import mnist\n",
    "from keras.callbacks import ModelCheckpoint, CSVLogger, Callback"
   ]
  },
  {
   "cell_type": "code",
   "execution_count": 13,
   "metadata": {
    "ExecuteTime": {
     "end_time": "2021-11-29T17:17:15.236658Z",
     "start_time": "2021-11-29T17:17:15.225690Z"
    }
   },
   "outputs": [],
   "source": [
    "def ImLeNet(X_train,Y_train):\n",
    "    model=Sequential()\n",
    "    \n",
    "    model.add(Conv2D(filters=60,kernel_size=(5,5),strides=(1,1),input_shape=(32,32,1),padding='valid',kernel_initializer='uniform'))  #[None,28,28,5]\n",
    "    model.add(LeakyReLU(alpha=0.1))\n",
    "    model.add(BatchNormalization())\n",
    "    \n",
    "    model.add(Conv2D(filters=60,kernel_size=(5,5),strides=(1,1),padding='valid',kernel_initializer='uniform'))  #[None,28,28,5]\n",
    "    model.add(LeakyReLU(alpha=0.1))\n",
    "    model.add(BatchNormalization())\n",
    "    \n",
    "    model.add(MaxPooling2D((2,2)))\n",
    "\n",
    "    model.add(Conv2D(filters=30,kernel_size=(3,3),strides=(1,1),padding='valid',kernel_initializer='uniform'))  #[None,28,28,5]\n",
    "    model.add(LeakyReLU(alpha=0.1))\n",
    "    model.add(BatchNormalization())\n",
    "    \n",
    "    model.add(Conv2D(filters=30,kernel_size=(3,3),strides=(1,1),padding='valid',kernel_initializer='uniform'))  #[None,28,28,5]\n",
    "    model.add(LeakyReLU(alpha=0.1))\n",
    "    model.add(BatchNormalization())\n",
    "    \n",
    "    model.add(MaxPooling2D((2,2)))\n",
    "    model.add(Dropout(0.5))\n",
    "\n",
    "    model.add(Flatten(data_format='channels_last'))\n",
    "    \n",
    "    model.add(Dense(500))\n",
    "    model.add(LeakyReLU(alpha=0.1))\n",
    "    \n",
    "    model.add(Dropout(0.5))\n",
    "    model.add(Dense(43,activation='softmax'))\n",
    "\n",
    "    model.summary()\n",
    "\n",
    "    model.compile(optimizer=Adadelta(learning_rate=1),loss='categorical_crossentropy', metrics=['accuracy'])\n",
    "\n",
    "    return model"
   ]
  },
  {
   "cell_type": "code",
   "execution_count": 14,
   "metadata": {
    "ExecuteTime": {
     "end_time": "2021-11-29T17:17:15.249624Z",
     "start_time": "2021-11-29T17:17:15.237657Z"
    }
   },
   "outputs": [],
   "source": [
    "# Write a LossHistory class to save the loss and acc of the training set\n",
    "# Of course I can not do this at all, I can directly use the history object returned by the model.fit() method to do it\n",
    "'''Callback has 6 commonly used methods, four of which are implemented here\n",
    "    def on_epoch_begin(self, epoch, logs=None):\n",
    "    def on_epoch_end(self, epoch, logs=None):\n",
    "    def on_batch_begin(self, batch, logs=None):\n",
    "    def on_batch_end(self, batch, logs=None):\n",
    "    def on_train_begin(self, logs=None):\n",
    "    def on_train_end(self, logs=None):\n",
    "'''\n",
    "class LossHistory(Callback):\n",
    " \n",
    "        '''\n",
    "        Define four attributes at the beginning of the model,\n",
    "        each attribute is a dictionary type, storing the corresponding value and epoch\n",
    "        '''\n",
    "    def on_train_begin(self, logs={}):\n",
    "        self.losses = {'batch':[], 'epoch':[]}\n",
    "        self.accuracy = {'batch':[], 'epoch':[]}\n",
    "        self.val_loss = {'batch':[], 'epoch':[]}\n",
    "        self.val_acc = {'batch':[], 'epoch':[]}\n",
    " \n",
    "    # Record the corresponding value after each batch\n",
    "    def on_batch_end(self, batch, logs={}):\n",
    "        self.losses['batch'].append(logs.get('loss'))\n",
    "        self.accuracy['batch'].append(logs.get('accuracy'))\n",
    "        self.val_loss['batch'].append(logs.get('val_loss'))\n",
    "        self.val_acc['batch'].append(logs.get('val_accuracy'))\n",
    "    \n",
    "    # Record the corresponding value after each epoch\n",
    "    def on_epoch_end(self, batch, logs={}):\n",
    "        self.losses['epoch'].append(logs.get('loss'))\n",
    "        self.accuracy['epoch'].append(logs.get('accuracy'))\n",
    "        self.val_loss['epoch'].append(logs.get('val_loss'))\n",
    "        self.val_acc['epoch'].append(logs.get('val_accuracy'))\n",
    " \n",
    "    def loss_plot(self, loss_type, figsize=(8,4), dpi=100):\n",
    "        '''\n",
    "        loss_type: refers to'epoch' or'batch', respectively indicating whether it is recorded after a batch or after an epoch\n",
    "        '''\n",
    "        num = len(history.losses[loss_type])\n",
    "        iters = range(num)\n",
    "        \n",
    "        fig, ax = plt.subplots(1,1, figsize=figsize, dpi=dpi)\n",
    "        plt.xlim(0, num-1)\n",
    "        plt.ylim(0, 1)\n",
    "        ax.xaxis.set_major_locator(MultipleLocator(1))\n",
    "        # acc\n",
    "        plt.plot(iters, self.accuracy[loss_type], 'r', label='train acc')\n",
    "        # loss\n",
    "        plt.plot(iters, self.losses[loss_type], 'g', label='train loss')\n",
    "        if loss_type == 'epoch':\n",
    "            # val_acc\n",
    "            plt.plot(iters, self.val_acc[loss_type], 'b', label='val acc')\n",
    "            # val_loss\n",
    "            plt.plot(iters, self.val_loss[loss_type], 'k', label='val loss')\n",
    "        \n",
    "        ax.spines['top'].set_visible(False)\n",
    "        ax.spines['right'].set_visible(False)\n",
    "\n",
    "        plt.xlabel(loss_type)\n",
    "        plt.ylabel('acc-loss')\n",
    "        plt.legend(loc=\"center right\")\n",
    "        plt.savefig(\"mnist_keras.png\")\n",
    "        plt.show()"
   ]
  },
  {
   "cell_type": "code",
   "execution_count": 15,
   "metadata": {
    "ExecuteTime": {
     "end_time": "2021-11-29T17:17:15.260595Z",
     "start_time": "2021-11-29T17:17:15.250621Z"
    }
   },
   "outputs": [],
   "source": [
    "filepath=\"weights22.best.hdf5\"\n",
    "checkpoint= ModelCheckpoint(filepath, monitor='val_accuracy', verbose=1, save_best_only=True, mode='max')\n",
    "\n",
    "# checkpoint = ModelCheckpoint(filepath=\"/tmp/weights.hdf5\", verbose=1, save_best_only=True)\n",
    "csv_logger = CSVLogger('training22.log')\n",
    "history = LossHistory()\n",
    "callbacks_list= [checkpoint, history, csv_logger]"
   ]
  },
  {
   "cell_type": "code",
   "execution_count": 16,
   "metadata": {
    "ExecuteTime": {
     "end_time": "2021-11-29T17:27:00.693416Z",
     "start_time": "2021-11-29T17:17:15.261592Z"
    },
    "scrolled": false
   },
   "outputs": [
    {
     "name": "stdout",
     "output_type": "stream",
     "text": [
      "Model: \"sequential_1\"\n",
      "_________________________________________________________________\n",
      "Layer (type)                 Output Shape              Param #   \n",
      "=================================================================\n",
      "conv2d_1 (Conv2D)            (None, 28, 28, 60)        1560      \n",
      "_________________________________________________________________\n",
      "leaky_re_lu_1 (LeakyReLU)    (None, 28, 28, 60)        0         \n",
      "_________________________________________________________________\n",
      "batch_normalization_1 (Batch (None, 28, 28, 60)        240       \n",
      "_________________________________________________________________\n",
      "conv2d_2 (Conv2D)            (None, 24, 24, 60)        90060     \n",
      "_________________________________________________________________\n",
      "leaky_re_lu_2 (LeakyReLU)    (None, 24, 24, 60)        0         \n",
      "_________________________________________________________________\n",
      "batch_normalization_2 (Batch (None, 24, 24, 60)        240       \n",
      "_________________________________________________________________\n",
      "max_pooling2d_1 (MaxPooling2 (None, 12, 12, 60)        0         \n",
      "_________________________________________________________________\n",
      "conv2d_3 (Conv2D)            (None, 10, 10, 30)        16230     \n",
      "_________________________________________________________________\n",
      "leaky_re_lu_3 (LeakyReLU)    (None, 10, 10, 30)        0         \n",
      "_________________________________________________________________\n",
      "batch_normalization_3 (Batch (None, 10, 10, 30)        120       \n",
      "_________________________________________________________________\n",
      "conv2d_4 (Conv2D)            (None, 8, 8, 30)          8130      \n",
      "_________________________________________________________________\n",
      "leaky_re_lu_4 (LeakyReLU)    (None, 8, 8, 30)          0         \n",
      "_________________________________________________________________\n",
      "batch_normalization_4 (Batch (None, 8, 8, 30)          120       \n",
      "_________________________________________________________________\n",
      "max_pooling2d_2 (MaxPooling2 (None, 4, 4, 30)          0         \n",
      "_________________________________________________________________\n",
      "dropout_1 (Dropout)          (None, 4, 4, 30)          0         \n",
      "_________________________________________________________________\n",
      "flatten_1 (Flatten)          (None, 480)               0         \n",
      "_________________________________________________________________\n",
      "dense_1 (Dense)              (None, 500)               240500    \n",
      "_________________________________________________________________\n",
      "leaky_re_lu_5 (LeakyReLU)    (None, 500)               0         \n",
      "_________________________________________________________________\n",
      "dropout_2 (Dropout)          (None, 500)               0         \n",
      "_________________________________________________________________\n",
      "dense_2 (Dense)              (None, 43)                21543     \n",
      "=================================================================\n",
      "Total params: 378,743\n",
      "Trainable params: 378,383\n",
      "Non-trainable params: 360\n",
      "_________________________________________________________________\n",
      "Train on 31367 samples, validate on 7842 samples\n",
      "Epoch 1/50\n",
      "31367/31367 [==============================] - 14s 441us/step - loss: 0.8558 - accuracy: 0.7647 - val_loss: 0.1663 - val_accuracy: 0.9512\n",
      "\n",
      "Epoch 00001: val_accuracy improved from -inf to 0.95116, saving model to weights22.best.hdf5\n",
      "Epoch 2/50\n",
      "31367/31367 [==============================] - 12s 372us/step - loss: 0.2155 - accuracy: 0.9344 - val_loss: 0.2171 - val_accuracy: 0.9345\n",
      "\n",
      "Epoch 00002: val_accuracy did not improve from 0.95116\n",
      "Epoch 3/50\n",
      "31367/31367 [==============================] - 12s 376us/step - loss: 0.1486 - accuracy: 0.9554 - val_loss: 0.0823 - val_accuracy: 0.9740\n",
      "\n",
      "Epoch 00003: val_accuracy improved from 0.95116 to 0.97399, saving model to weights22.best.hdf5\n",
      "Epoch 4/50\n",
      "31367/31367 [==============================] - 12s 378us/step - loss: 0.1169 - accuracy: 0.9660 - val_loss: 0.3848 - val_accuracy: 0.9118\n",
      "\n",
      "Epoch 00004: val_accuracy did not improve from 0.97399\n",
      "Epoch 5/50\n",
      "31367/31367 [==============================] - 12s 375us/step - loss: 0.0935 - accuracy: 0.9716 - val_loss: 0.0578 - val_accuracy: 0.9852\n",
      "\n",
      "Epoch 00005: val_accuracy improved from 0.97399 to 0.98521, saving model to weights22.best.hdf5\n",
      "Epoch 6/50\n",
      "31367/31367 [==============================] - 12s 374us/step - loss: 0.0739 - accuracy: 0.9782 - val_loss: 0.0344 - val_accuracy: 0.9892\n",
      "\n",
      "Epoch 00006: val_accuracy improved from 0.98521 to 0.98916, saving model to weights22.best.hdf5\n",
      "Epoch 7/50\n",
      "31367/31367 [==============================] - 12s 368us/step - loss: 0.0656 - accuracy: 0.9798 - val_loss: 0.0435 - val_accuracy: 0.9874\n",
      "\n",
      "Epoch 00007: val_accuracy did not improve from 0.98916\n",
      "Epoch 8/50\n",
      "31367/31367 [==============================] - 12s 367us/step - loss: 0.0608 - accuracy: 0.9810 - val_loss: 0.0465 - val_accuracy: 0.9879\n",
      "\n",
      "Epoch 00008: val_accuracy did not improve from 0.98916\n",
      "Epoch 9/50\n",
      "31367/31367 [==============================] - 12s 367us/step - loss: 0.0507 - accuracy: 0.9848 - val_loss: 0.0331 - val_accuracy: 0.9902\n",
      "\n",
      "Epoch 00009: val_accuracy improved from 0.98916 to 0.99018, saving model to weights22.best.hdf5\n",
      "Epoch 10/50\n",
      "31367/31367 [==============================] - 11s 366us/step - loss: 0.0456 - accuracy: 0.9863 - val_loss: 0.0341 - val_accuracy: 0.9907\n",
      "\n",
      "Epoch 00010: val_accuracy improved from 0.99018 to 0.99069, saving model to weights22.best.hdf5\n",
      "Epoch 11/50\n",
      "31367/31367 [==============================] - 12s 367us/step - loss: 0.0431 - accuracy: 0.9858 - val_loss: 0.0221 - val_accuracy: 0.9931\n",
      "\n",
      "Epoch 00011: val_accuracy improved from 0.99069 to 0.99311, saving model to weights22.best.hdf5\n",
      "Epoch 12/50\n",
      "31367/31367 [==============================] - 12s 369us/step - loss: 0.0371 - accuracy: 0.9884 - val_loss: 0.0253 - val_accuracy: 0.9918\n",
      "\n",
      "Epoch 00012: val_accuracy did not improve from 0.99311\n",
      "Epoch 13/50\n",
      "31367/31367 [==============================] - 12s 370us/step - loss: 0.0353 - accuracy: 0.9895 - val_loss: 0.0204 - val_accuracy: 0.9943\n",
      "\n",
      "Epoch 00013: val_accuracy improved from 0.99311 to 0.99426, saving model to weights22.best.hdf5\n",
      "Epoch 14/50\n",
      "31367/31367 [==============================] - 12s 368us/step - loss: 0.0340 - accuracy: 0.9902 - val_loss: 0.0296 - val_accuracy: 0.9904\n",
      "\n",
      "Epoch 00014: val_accuracy did not improve from 0.99426\n",
      "Epoch 15/50\n",
      "31367/31367 [==============================] - 12s 374us/step - loss: 0.0253 - accuracy: 0.9916 - val_loss: 0.0282 - val_accuracy: 0.9918\n",
      "\n",
      "Epoch 00015: val_accuracy did not improve from 0.99426\n",
      "Epoch 16/50\n",
      "31367/31367 [==============================] - 12s 375us/step - loss: 0.0272 - accuracy: 0.9910 - val_loss: 0.0288 - val_accuracy: 0.9934\n",
      "\n",
      "Epoch 00016: val_accuracy did not improve from 0.99426\n",
      "Epoch 17/50\n",
      "31367/31367 [==============================] - 12s 368us/step - loss: 0.0234 - accuracy: 0.9926 - val_loss: 0.0305 - val_accuracy: 0.9901\n",
      "\n",
      "Epoch 00017: val_accuracy did not improve from 0.99426\n",
      "Epoch 18/50\n",
      "31367/31367 [==============================] - 12s 368us/step - loss: 0.0235 - accuracy: 0.9926 - val_loss: 0.0202 - val_accuracy: 0.9949\n",
      "\n",
      "Epoch 00018: val_accuracy improved from 0.99426 to 0.99490, saving model to weights22.best.hdf5\n",
      "Epoch 19/50\n",
      "31367/31367 [==============================] - 12s 368us/step - loss: 0.0236 - accuracy: 0.9932 - val_loss: 0.0315 - val_accuracy: 0.9915\n",
      "\n",
      "Epoch 00019: val_accuracy did not improve from 0.99490\n",
      "Epoch 20/50\n",
      "31367/31367 [==============================] - 12s 367us/step - loss: 0.0253 - accuracy: 0.9924 - val_loss: 0.0201 - val_accuracy: 0.9946\n",
      "\n",
      "Epoch 00020: val_accuracy did not improve from 0.99490\n",
      "Epoch 21/50\n",
      "31367/31367 [==============================] - 12s 368us/step - loss: 0.0203 - accuracy: 0.9939 - val_loss: 0.0256 - val_accuracy: 0.9944\n",
      "\n",
      "Epoch 00021: val_accuracy did not improve from 0.99490\n",
      "Epoch 22/50\n",
      "31367/31367 [==============================] - 12s 368us/step - loss: 0.0218 - accuracy: 0.9930 - val_loss: 0.0162 - val_accuracy: 0.9967\n",
      "\n",
      "Epoch 00022: val_accuracy improved from 0.99490 to 0.99668, saving model to weights22.best.hdf5\n",
      "Epoch 23/50\n",
      "31367/31367 [==============================] - 12s 368us/step - loss: 0.0199 - accuracy: 0.9936 - val_loss: 0.0244 - val_accuracy: 0.9939\n",
      "\n",
      "Epoch 00023: val_accuracy did not improve from 0.99668\n",
      "Epoch 24/50\n"
     ]
    },
    {
     "name": "stdout",
     "output_type": "stream",
     "text": [
      "31367/31367 [==============================] - 12s 369us/step - loss: 0.0162 - accuracy: 0.9946 - val_loss: 0.0270 - val_accuracy: 0.9930\n",
      "\n",
      "Epoch 00024: val_accuracy did not improve from 0.99668\n",
      "Epoch 25/50\n",
      "31367/31367 [==============================] - 12s 368us/step - loss: 0.0171 - accuracy: 0.9944 - val_loss: 0.0262 - val_accuracy: 0.9938\n",
      "\n",
      "Epoch 00025: val_accuracy did not improve from 0.99668\n",
      "Epoch 26/50\n",
      "31367/31367 [==============================] - 12s 372us/step - loss: 0.0172 - accuracy: 0.9945 - val_loss: 0.0219 - val_accuracy: 0.9949\n",
      "\n",
      "Epoch 00026: val_accuracy did not improve from 0.99668\n",
      "Epoch 27/50\n",
      "31367/31367 [==============================] - 12s 381us/step - loss: 0.0152 - accuracy: 0.9957 - val_loss: 0.0222 - val_accuracy: 0.9953\n",
      "\n",
      "Epoch 00027: val_accuracy did not improve from 0.99668\n",
      "Epoch 28/50\n",
      "31367/31367 [==============================] - 12s 376us/step - loss: 0.0150 - accuracy: 0.9951 - val_loss: 0.0336 - val_accuracy: 0.9932\n",
      "\n",
      "Epoch 00028: val_accuracy did not improve from 0.99668\n",
      "Epoch 29/50\n",
      "31367/31367 [==============================] - 12s 375us/step - loss: 0.0140 - accuracy: 0.9956 - val_loss: 0.0216 - val_accuracy: 0.9954\n",
      "\n",
      "Epoch 00029: val_accuracy did not improve from 0.99668\n",
      "Epoch 30/50\n",
      "31367/31367 [==============================] - 12s 376us/step - loss: 0.0161 - accuracy: 0.9951 - val_loss: 0.0178 - val_accuracy: 0.9958\n",
      "\n",
      "Epoch 00030: val_accuracy did not improve from 0.99668\n",
      "Epoch 31/50\n",
      "31367/31367 [==============================] - 12s 375us/step - loss: 0.0141 - accuracy: 0.9950 - val_loss: 0.0345 - val_accuracy: 0.9913\n",
      "\n",
      "Epoch 00031: val_accuracy did not improve from 0.99668\n",
      "Epoch 32/50\n",
      "31367/31367 [==============================] - 12s 376us/step - loss: 0.0153 - accuracy: 0.9953 - val_loss: 0.0189 - val_accuracy: 0.9957\n",
      "\n",
      "Epoch 00032: val_accuracy did not improve from 0.99668\n",
      "Epoch 33/50\n",
      "31367/31367 [==============================] - 12s 377us/step - loss: 0.0145 - accuracy: 0.9957 - val_loss: 0.0400 - val_accuracy: 0.9922\n",
      "\n",
      "Epoch 00033: val_accuracy did not improve from 0.99668\n",
      "Epoch 34/50\n",
      "31367/31367 [==============================] - 12s 386us/step - loss: 0.0124 - accuracy: 0.9959 - val_loss: 0.0268 - val_accuracy: 0.9943\n",
      "\n",
      "Epoch 00034: val_accuracy did not improve from 0.99668\n",
      "Epoch 35/50\n",
      "31367/31367 [==============================] - 12s 367us/step - loss: 0.0134 - accuracy: 0.9960 - val_loss: 0.0274 - val_accuracy: 0.9936\n",
      "\n",
      "Epoch 00035: val_accuracy did not improve from 0.99668\n",
      "Epoch 36/50\n",
      "31367/31367 [==============================] - 12s 369us/step - loss: 0.0139 - accuracy: 0.9952 - val_loss: 0.0175 - val_accuracy: 0.9953\n",
      "\n",
      "Epoch 00036: val_accuracy did not improve from 0.99668\n",
      "Epoch 37/50\n",
      "31367/31367 [==============================] - 12s 368us/step - loss: 0.0149 - accuracy: 0.9955 - val_loss: 0.0165 - val_accuracy: 0.9960\n",
      "\n",
      "Epoch 00037: val_accuracy did not improve from 0.99668\n",
      "Epoch 38/50\n",
      "31367/31367 [==============================] - 12s 369us/step - loss: 0.0094 - accuracy: 0.9966 - val_loss: 0.0150 - val_accuracy: 0.9959\n",
      "\n",
      "Epoch 00038: val_accuracy did not improve from 0.99668\n",
      "Epoch 39/50\n",
      "31367/31367 [==============================] - 12s 368us/step - loss: 0.0114 - accuracy: 0.9968 - val_loss: 0.0171 - val_accuracy: 0.9957\n",
      "\n",
      "Epoch 00039: val_accuracy did not improve from 0.99668\n",
      "Epoch 40/50\n",
      "31367/31367 [==============================] - 12s 367us/step - loss: 0.0091 - accuracy: 0.9970 - val_loss: 0.0193 - val_accuracy: 0.9960\n",
      "\n",
      "Epoch 00040: val_accuracy did not improve from 0.99668\n",
      "Epoch 41/50\n",
      "31367/31367 [==============================] - 11s 367us/step - loss: 0.0106 - accuracy: 0.9968 - val_loss: 0.0174 - val_accuracy: 0.9958\n",
      "\n",
      "Epoch 00041: val_accuracy did not improve from 0.99668\n",
      "Epoch 42/50\n",
      "31367/31367 [==============================] - 11s 366us/step - loss: 0.0106 - accuracy: 0.9969 - val_loss: 0.0185 - val_accuracy: 0.9955\n",
      "\n",
      "Epoch 00042: val_accuracy did not improve from 0.99668\n",
      "Epoch 43/50\n",
      "31367/31367 [==============================] - 12s 367us/step - loss: 0.0111 - accuracy: 0.9966 - val_loss: 0.0168 - val_accuracy: 0.9963\n",
      "\n",
      "Epoch 00043: val_accuracy did not improve from 0.99668\n",
      "Epoch 44/50\n",
      "31367/31367 [==============================] - 12s 368us/step - loss: 0.0092 - accuracy: 0.9971 - val_loss: 0.0274 - val_accuracy: 0.9930\n",
      "\n",
      "Epoch 00044: val_accuracy did not improve from 0.99668\n",
      "Epoch 45/50\n",
      "31367/31367 [==============================] - 12s 369us/step - loss: 0.0097 - accuracy: 0.9969 - val_loss: 0.0203 - val_accuracy: 0.9959\n",
      "\n",
      "Epoch 00045: val_accuracy did not improve from 0.99668\n",
      "Epoch 46/50\n",
      "31367/31367 [==============================] - 12s 369us/step - loss: 0.0098 - accuracy: 0.9970 - val_loss: 0.0499 - val_accuracy: 0.9897\n",
      "\n",
      "Epoch 00046: val_accuracy did not improve from 0.99668\n",
      "Epoch 47/50\n",
      "31367/31367 [==============================] - 12s 368us/step - loss: 0.0110 - accuracy: 0.9968 - val_loss: 0.0217 - val_accuracy: 0.9950\n",
      "\n",
      "Epoch 00047: val_accuracy did not improve from 0.99668\n",
      "Epoch 48/50\n",
      "31367/31367 [==============================] - 12s 371us/step - loss: 0.0111 - accuracy: 0.9969 - val_loss: 0.0234 - val_accuracy: 0.9949\n",
      "\n",
      "Epoch 00048: val_accuracy did not improve from 0.99668\n",
      "Epoch 49/50\n",
      "31367/31367 [==============================] - 12s 369us/step - loss: 0.0094 - accuracy: 0.9974 - val_loss: 0.0247 - val_accuracy: 0.9941\n",
      "\n",
      "Epoch 00049: val_accuracy did not improve from 0.99668\n",
      "Epoch 50/50\n",
      "31367/31367 [==============================] - 12s 369us/step - loss: 0.0069 - accuracy: 0.9982 - val_loss: 0.0232 - val_accuracy: 0.9950\n",
      "\n",
      "Epoch 00050: val_accuracy did not improve from 0.99668\n"
     ]
    }
   ],
   "source": [
    "if __name__==\"__main__\":\n",
    "    y_train = to_categorical(y_train, n_classes)\n",
    "    y_val = to_categorical(y_val, n_classes)\n",
    "    y_test = to_categorical(y_test, n_classes)\n",
    "    \n",
    "    model=ImLeNet(X_train,y_train)\n",
    "    model.fit(x=X_train,y=y_train, batch_size=20,epochs=20,verbose=1,validation_data=(X_val,y_val),callbacks=callbacks_list)"
   ]
  },
  {
   "cell_type": "code",
   "execution_count": 17,
   "metadata": {
    "ExecuteTime": {
     "end_time": "2021-11-29T17:27:02.234294Z",
     "start_time": "2021-11-29T17:27:00.694411Z"
    }
   },
   "outputs": [
    {
     "name": "stdout",
     "output_type": "stream",
     "text": [
      "12630/12630 [==============================] - 2s 122us/step\n",
      "loss:0.1474821766200685===acc:0.9755344390869141\n"
     ]
    }
   ],
   "source": [
    "loss,acc=model.evaluate(x=X_test,y=y_test)\n",
    "print(\"loss:{}===acc:{}\".format(loss,acc))"
   ]
  },
  {
   "cell_type": "code",
   "execution_count": 18,
   "metadata": {
    "ExecuteTime": {
     "end_time": "2021-11-29T17:27:02.559453Z",
     "start_time": "2021-11-29T17:27:02.235291Z"
    },
    "scrolled": false
   },
   "outputs": [
    {
     "data": {
      "image/png": "[encoded data removed]",
      "text/plain": [
       "<Figure size 800x400 with 1 Axes>"
      ]
     },
     "metadata": {
      "needs_background": "light"
     },
     "output_type": "display_data"
    }
   ],
   "source": [
    "history.loss_plot('epoch')"
   ]
  },
  {
   "cell_type": "code",
   "execution_count": null,
   "metadata": {},
   "outputs": [],
   "source": []
  }
 ],
 "metadata": {
  "kernelspec": {
   "display_name": "Python 3",
   "language": "python",
   "name": "python3"
  },
  "language_info": {
   "codemirror_mode": {
    "name": "ipython",
    "version": 3
   },
   "file_extension": ".py",
   "mimetype": "text/x-python",
   "name": "python",
   "nbconvert_exporter": "python",
   "pygments_lexer": "ipython3",
   "version": "3.7.3"
  }
 },
 "nbformat": 4,
 "nbformat_minor": 4
}
