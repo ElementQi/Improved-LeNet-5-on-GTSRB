{
 "cells": [
  {
   "cell_type": "markdown",
   "metadata": {},
   "source": [
    "# load the data"
   ]
  },
  {
   "cell_type": "code",
   "execution_count": 1,
   "metadata": {
    "ExecuteTime": {
     "end_time": "2021-11-28T13:31:21.767464Z",
     "start_time": "2021-11-28T13:31:21.399448Z"
    }
   },
   "outputs": [],
   "source": [
    "import pandas as pd\n",
    "import numpy as np"
   ]
  },
  {
   "cell_type": "code",
   "execution_count": 2,
   "metadata": {
    "ExecuteTime": {
     "end_time": "2021-11-28T13:31:23.465132Z",
     "start_time": "2021-11-28T13:31:21.768462Z"
    }
   },
   "outputs": [
    {
     "name": "stderr",
     "output_type": "stream",
     "text": [
      "Using TensorFlow backend.\n"
     ]
    }
   ],
   "source": [
    "# The German Traffic Sign Recognition Benchmark\n",
    "\n",
    "import matplotlib.pyplot as plt\n",
    "from keras.preprocessing.image import load_img, img_to_array\n",
    "import csv\n",
    "\n",
    "# function for reading the images\n",
    "# arguments: path to the traffic sign data, for example './GTSRB/Training'\n",
    "# returns: list of images, list of corresponding labels \n",
    "# grayscale type image can not be shown by plt.imshow function\n",
    "# image array: for int: [0..255], for float: [0..1]\n",
    "def readTrafficSigns(rootpath, img_size=(28,28), grayscale=True):\n",
    "    '''Reads traffic sign data for German Traffic Sign Recognition Benchmark.\n",
    "    \n",
    "    Loads an image from file, resize to img_size and return as numpy array.\n",
    "    Values are normalized to range [0,1].\n",
    "    :param img: image path\n",
    "    :param img_size: image size as tuple (width, height)\n",
    "    :return: ndarray (width, height, 3) or (width, height)\n",
    "    \n",
    "    Arguments: path to the traffic sign data, for example './GTSRB/Training'\n",
    "    Returns:   list of images, list of corresponding labels\n",
    "    '''\n",
    "    \n",
    "    images = [] # images\n",
    "    labels = [] # corresponding labels\n",
    "    # loop over all 42 classes\n",
    "    for c in range(0,43):\n",
    "        prefix = rootpath + '/' + format(c, '05d') + '/' # subdirectory for class\n",
    "        gtFile = open(prefix + 'GT-'+ format(c, '05d') + '.csv') # annotations file\n",
    "        gtReader = csv.reader(gtFile, delimiter=';') # csv parser for annotations file\n",
    "        next(gtReader) # skip header\n",
    "        # loop over all images in current annotations file\n",
    "        for row in gtReader:\n",
    "            img = prefix + row[0]\n",
    "            if grayscale == True:\n",
    "                img = load_img(img, target_size=img_size, color_mode='grayscale')\n",
    "            else:\n",
    "                img = load_img(img, target_size=img_size, color_mode='rgb')\n",
    "\n",
    "            img = img_to_array(img)\n",
    "            img = img/255\n",
    "            img = img.clip(0, 1)\n",
    "            \n",
    "            images.append(img)\n",
    "            labels.append(int(row[7])) # the 8th column is the label\n",
    "        gtFile.close()\n",
    "    return np.array(images), labels"
   ]
  },
  {
   "cell_type": "code",
   "execution_count": 3,
   "metadata": {
    "ExecuteTime": {
     "end_time": "2021-11-28T13:31:23.472083Z",
     "start_time": "2021-11-28T13:31:23.466098Z"
    }
   },
   "outputs": [],
   "source": [
    "def readTrafficSigns_test(rootpath, img_size=(28,28), grayscale=True):\n",
    "    images = [] # images\n",
    "    labels = [] # corresponding labels\n",
    "    \n",
    "    gtFile = open(rootpath+\"/GT-final_test.csv\") # annotations file\n",
    "    gtReader = csv.reader(gtFile, delimiter=';') # csv parser for annotations file\n",
    "    next(gtReader) # skip header\n",
    "    # loop over all images in current annotations file\n",
    "    for row in gtReader:\n",
    "        img = rootpath + '/' + row[0]\n",
    "        if grayscale == True:\n",
    "            img = load_img(img, target_size=img_size, color_mode='grayscale')\n",
    "        else:\n",
    "            img = load_img(img, target_size=img_size, color_mode='rgb')\n",
    "\n",
    "        img = img_to_array(img)\n",
    "        img = img/255\n",
    "        img = img.clip(0, 1)\n",
    "\n",
    "        images.append(img)\n",
    "        labels.append(int(row[7])) # the 8th column is the label\n",
    "    gtFile.close()\n",
    "    return np.array(images), labels"
   ]
  },
  {
   "cell_type": "code",
   "execution_count": 4,
   "metadata": {
    "ExecuteTime": {
     "end_time": "2021-11-28T13:31:23.478071Z",
     "start_time": "2021-11-28T13:31:23.473080Z"
    }
   },
   "outputs": [],
   "source": [
    "signnames_file = 'C:/Users/ElementQi/Desktop/dataScienceProgramming/pythonProject/data/GTSRB/signnames.csv'\n",
    "with open(signnames_file) as f:\n",
    "    f.readline() # Strip the header\n",
    "    tuples = [line.strip().split(',') for line in f]\n",
    "    sign_names = {int(t[0]): t[1] for t in tuples}"
   ]
  },
  {
   "cell_type": "code",
   "execution_count": 5,
   "metadata": {
    "ExecuteTime": {
     "end_time": "2021-11-28T13:31:23.486045Z",
     "start_time": "2021-11-28T13:31:23.479063Z"
    }
   },
   "outputs": [
    {
     "data": {
      "text/plain": [
       "{0: 'Speed limit (20km/h)',\n",
       " 1: 'Speed limit (30km/h)',\n",
       " 2: 'Speed limit (50km/h)',\n",
       " 3: 'Speed limit (60km/h)',\n",
       " 4: 'Speed limit (70km/h)',\n",
       " 5: 'Speed limit (80km/h)',\n",
       " 6: 'End of speed limit (80km/h)',\n",
       " 7: 'Speed limit (100km/h)',\n",
       " 8: 'Speed limit (120km/h)',\n",
       " 9: 'No passing',\n",
       " 10: 'No passing for vechiles over 3.5 metric tons',\n",
       " 11: 'Right-of-way at the next intersection',\n",
       " 12: 'Priority road',\n",
       " 13: 'Yield',\n",
       " 14: 'Stop',\n",
       " 15: 'No vechiles',\n",
       " 16: 'Vechiles over 3.5 metric tons prohibited',\n",
       " 17: 'No entry',\n",
       " 18: 'General caution',\n",
       " 19: 'Dangerous curve to the left',\n",
       " 20: 'Dangerous curve to the right',\n",
       " 21: 'Double curve',\n",
       " 22: 'Bumpy road',\n",
       " 23: 'Slippery road',\n",
       " 24: 'Road narrows on the right',\n",
       " 25: 'Road work',\n",
       " 26: 'Traffic signals',\n",
       " 27: 'Pedestrians',\n",
       " 28: 'Children crossing',\n",
       " 29: 'Bicycles crossing',\n",
       " 30: 'Beware of ice/snow',\n",
       " 31: 'Wild animals crossing',\n",
       " 32: 'End of all speed and passing limits',\n",
       " 33: 'Turn right ahead',\n",
       " 34: 'Turn left ahead',\n",
       " 35: 'Ahead only',\n",
       " 36: 'Go straight or right',\n",
       " 37: 'Go straight or left',\n",
       " 38: 'Keep right',\n",
       " 39: 'Keep left',\n",
       " 40: 'Roundabout mandatory',\n",
       " 41: 'End of no passing',\n",
       " 42: 'End of no passing by vechiles over 3.5 metric tons'}"
      ]
     },
     "execution_count": 5,
     "metadata": {},
     "output_type": "execute_result"
    }
   ],
   "source": [
    "sign_names"
   ]
  },
  {
   "cell_type": "code",
   "execution_count": 6,
   "metadata": {
    "ExecuteTime": {
     "end_time": "2021-11-28T13:31:34.800048Z",
     "start_time": "2021-11-28T13:31:23.487042Z"
    }
   },
   "outputs": [],
   "source": [
    "train_path = 'C:/Users/ElementQi/Desktop/dataScienceProgramming/pythonProject/data/GTSRB/Final_Training/Images'\n",
    "test_path = 'C:/Users/ElementQi/Desktop/dataScienceProgramming/pythonProject/data/GTSRB/Final_Test/Images'\n",
    "\n",
    "img_size = (32,32)\n",
    "gray=True\n",
    "X_train, y_train = readTrafficSigns(train_path, img_size=img_size, grayscale=gray)\n",
    "X_test, y_test = readTrafficSigns_test(test_path, img_size=img_size, grayscale=gray)"
   ]
  },
  {
   "cell_type": "code",
   "execution_count": 7,
   "metadata": {
    "ExecuteTime": {
     "end_time": "2021-11-28T13:31:34.805035Z",
     "start_time": "2021-11-28T13:31:34.801045Z"
    }
   },
   "outputs": [
    {
     "name": "stdout",
     "output_type": "stream",
     "text": [
      "Number of training examples = 39209\n",
      "Number of testing examples = 12630\n",
      "Image data shape = (32, 32, 1)\n",
      "Class number = 43\n"
     ]
    }
   ],
   "source": [
    "n_train = len(X_train)\n",
    "n_test = len(X_test)\n",
    "image_shape = X_train[0].shape\n",
    "n_classes = len(set(y_train))\n",
    "\n",
    "print(\"Number of training examples =\", n_train)\n",
    "# print(\"Number of validation examples =\", n_valid)\n",
    "print(\"Number of testing examples =\", n_test)\n",
    "print(\"Image data shape =\", image_shape)\n",
    "print(\"Class number =\", n_classes)"
   ]
  },
  {
   "cell_type": "code",
   "execution_count": 8,
   "metadata": {
    "ExecuteTime": {
     "end_time": "2021-11-28T13:31:34.818001Z",
     "start_time": "2021-11-28T13:31:34.807030Z"
    },
    "scrolled": true
   },
   "outputs": [
    {
     "data": {
      "text/plain": [
       "array([[[0.3019608 ],\n",
       "        [0.29411766],\n",
       "        [0.3372549 ],\n",
       "        [0.38039216],\n",
       "        [0.4862745 ],\n",
       "        [0.4862745 ],\n",
       "        [0.49019608],\n",
       "        [0.5568628 ],\n",
       "        [0.5686275 ],\n",
       "        [0.9019608 ],\n",
       "        [0.9882353 ],\n",
       "        [0.94509804],\n",
       "        [0.92156863],\n",
       "        [0.6313726 ],\n",
       "        [0.5294118 ],\n",
       "        [0.6117647 ],\n",
       "        [0.6117647 ],\n",
       "        [0.7607843 ],\n",
       "        [0.9098039 ],\n",
       "        [0.9647059 ],\n",
       "        [0.8784314 ],\n",
       "        [0.7294118 ],\n",
       "        [0.5254902 ],\n",
       "        [0.34509805],\n",
       "        [0.39215687],\n",
       "        [0.41960785],\n",
       "        [0.35686275],\n",
       "        [0.35686275],\n",
       "        [0.3019608 ],\n",
       "        [0.28235295],\n",
       "        [0.2627451 ],\n",
       "        [0.25882354]],\n",
       "\n",
       "       [[0.3254902 ],\n",
       "        [0.3137255 ],\n",
       "        [0.34509805],\n",
       "        [0.44705883],\n",
       "        [0.5803922 ],\n",
       "        [0.5803922 ],\n",
       "        [0.41960785],\n",
       "        [0.41568628],\n",
       "        [0.70980394],\n",
       "        [0.9882353 ],\n",
       "        [0.9843137 ],\n",
       "        [0.9882353 ],\n",
       "        [0.7647059 ],\n",
       "        [0.5254902 ],\n",
       "        [0.61960787],\n",
       "        [0.6862745 ],\n",
       "        [0.6862745 ],\n",
       "        [0.75686276],\n",
       "        [0.87058824],\n",
       "        [0.9411765 ],\n",
       "        [0.9411765 ],\n",
       "        [0.8666667 ],\n",
       "        [0.60784316],\n",
       "        [0.3882353 ],\n",
       "        [0.38431373],\n",
       "        [0.4117647 ],\n",
       "        [0.3764706 ],\n",
       "        [0.3764706 ],\n",
       "        [0.32156864],\n",
       "        [0.29411766],\n",
       "        [0.3019608 ],\n",
       "        [0.30980393]]], dtype=float32)"
      ]
     },
     "execution_count": 8,
     "metadata": {},
     "output_type": "execute_result"
    }
   ],
   "source": [
    "X_train[0][:2]"
   ]
  },
  {
   "cell_type": "code",
   "execution_count": 9,
   "metadata": {
    "ExecuteTime": {
     "end_time": "2021-11-28T13:31:34.828971Z",
     "start_time": "2021-11-28T13:31:34.818998Z"
    }
   },
   "outputs": [],
   "source": [
    "# plt.imshow(X_train[35456])"
   ]
  },
  {
   "cell_type": "markdown",
   "metadata": {},
   "source": [
    "# Include an exploratory visualization of the dataset"
   ]
  },
  {
   "cell_type": "code",
   "execution_count": 10,
   "metadata": {
    "ExecuteTime": {
     "end_time": "2021-11-28T13:31:35.363058Z",
     "start_time": "2021-11-28T13:31:34.829969Z"
    }
   },
   "outputs": [
    {
     "data": {
      "image/png": "[encoded data removed]",
      "text/plain": [
       "<Figure size 1080x288 with 1 Axes>"
      ]
     },
     "metadata": {
      "needs_background": "light"
     },
     "output_type": "display_data"
    },
    {
     "data": {
      "image/png": "[encoded data removed]",
      "text/plain": [
       "<Figure size 1080x288 with 1 Axes>"
      ]
     },
     "metadata": {
      "needs_background": "light"
     },
     "output_type": "display_data"
    }
   ],
   "source": [
    "### Data exploration visualization code goes here.\n",
    "\n",
    "# Plot Training / Test summary counts\n",
    "for (data, name) in [[y_train, \"training\"], [y_test, \"test\"]]:\n",
    "    df = pd.DataFrame({'label': data})\n",
    "    counts = df.groupby(['label']).agg({'label': 'count'})\n",
    "    counts.plot(kind='bar', title=\"counts of each sign in %s data\" % name, figsize=(15,4), rot=0)\n",
    "    plt.xlabel(\"sign\")\n",
    "    plt.show()"
   ]
  },
  {
   "cell_type": "code",
   "execution_count": 11,
   "metadata": {
    "ExecuteTime": {
     "end_time": "2021-11-28T13:31:35.367047Z",
     "start_time": "2021-11-28T13:31:35.364055Z"
    }
   },
   "outputs": [],
   "source": [
    "    \n",
    "# # Gather 5 Example images per label\n",
    "# examples_per_sign = 5\n",
    "# total = 0\n",
    "# example = {}\n",
    "# for (img,label) in zip(X_train, y_train):\n",
    "#     example.setdefault(label, [])\n",
    "#     if len(example[label]) < examples_per_sign:\n",
    "#         example[label].append(img)\n",
    "#         total += 1\n",
    "#     if total == n_classes * examples_per_sign:\n",
    "#         break;\n",
    "\n",
    "# for label in sorted(example.keys()):\n",
    "#     fig = plt.figure()\n",
    "#     print(sign_names[label])\n",
    "#     for i in range(examples_per_sign):\n",
    "#         plt.subplot(1,examples_per_sign,i+1)\n",
    "#         plt.imshow(example[label][i])\n",
    "#     plt.show()"
   ]
  },
  {
   "cell_type": "markdown",
   "metadata": {},
   "source": [
    "# Model"
   ]
  },
  {
   "cell_type": "code",
   "execution_count": 12,
   "metadata": {
    "ExecuteTime": {
     "end_time": "2021-11-28T13:31:35.379016Z",
     "start_time": "2021-11-28T13:31:35.368045Z"
    }
   },
   "outputs": [],
   "source": [
    "from keras.models import Sequential\n",
    "# from keras.optimizers import adadelta_v2\n",
    "from tensorflow.keras.optimizers import Adadelta\n",
    "from keras.layers import Dense,Flatten,Dropout,BatchNormalization\n",
    "from keras.layers.advanced_activations import LeakyReLU\n",
    "from keras.layers.convolutional import Conv2D,MaxPooling2D\n",
    "from keras.utils.np_utils import to_categorical\n",
    "from keras.datasets import mnist"
   ]
  },
  {
   "cell_type": "code",
   "execution_count": 13,
   "metadata": {
    "ExecuteTime": {
     "end_time": "2021-11-28T13:31:35.389986Z",
     "start_time": "2021-11-28T13:31:35.380013Z"
    }
   },
   "outputs": [],
   "source": [
    "def ImLeNet(X_train,Y_train):\n",
    "    model=Sequential()\n",
    "    \n",
    "    model.add(Conv2D(filters=60,kernel_size=(5,5),strides=(1,1),input_shape=(32,32,1),padding='valid',kernel_initializer='uniform'))  #[None,28,28,5]\n",
    "    model.add(LeakyReLU(alpha=0.1))\n",
    "    # model.add(BatchNormalization())\n",
    "    \n",
    "    model.add(Conv2D(filters=60,kernel_size=(5,5),strides=(1,1),padding='valid',kernel_initializer='uniform'))  #[None,28,28,5]\n",
    "    model.add(LeakyReLU(alpha=0.1))\n",
    "    # model.add(BatchNormalization())\n",
    "    model.add(MaxPooling2D((2,2)))\n",
    "\n",
    "    model.add(Conv2D(filters=30,kernel_size=(3,3),strides=(1,1),padding='valid',kernel_initializer='uniform'))  #[None,28,28,5]\n",
    "    model.add(LeakyReLU(alpha=0.1))\n",
    "    # model.add(BatchNormalization())\n",
    "    \n",
    "    model.add(Conv2D(filters=30,kernel_size=(3,3),strides=(1,1),padding='valid',kernel_initializer='uniform'))  #[None,28,28,5]\n",
    "    model.add(LeakyReLU(alpha=0.1))\n",
    "    # model.add(BatchNormalization())\n",
    "    \n",
    "    model.add(MaxPooling2D((2,2)))\n",
    "    model.add(Dropout(0.5))\n",
    "\n",
    "    model.add(Flatten(data_format='channels_last'))\n",
    "    \n",
    "    model.add(Dense(500))\n",
    "    model.add(LeakyReLU(alpha=0.1))\n",
    "    \n",
    "    model.add(Dropout(0.5))\n",
    "    model.add(Dense(43,activation='softmax'))\n",
    "    #打印参数\n",
    "    model.summary()\n",
    "    #编译模型\n",
    "    model.compile(optimizer=Adadelta(learning_rate=1),loss='categorical_crossentropy', metrics=['accuracy'])\n",
    "\n",
    "    return model"
   ]
  },
  {
   "cell_type": "code",
   "execution_count": 14,
   "metadata": {
    "ExecuteTime": {
     "end_time": "2021-11-28T13:34:34.169547Z",
     "start_time": "2021-11-28T13:31:35.390983Z"
    },
    "scrolled": false
   },
   "outputs": [
    {
     "name": "stdout",
     "output_type": "stream",
     "text": [
      "Model: \"sequential_1\"\n",
      "_________________________________________________________________\n",
      "Layer (type)                 Output Shape              Param #   \n",
      "=================================================================\n",
      "conv2d_1 (Conv2D)            (None, 28, 28, 60)        1560      \n",
      "_________________________________________________________________\n",
      "leaky_re_lu_1 (LeakyReLU)    (None, 28, 28, 60)        0         \n",
      "_________________________________________________________________\n",
      "conv2d_2 (Conv2D)            (None, 24, 24, 60)        90060     \n",
      "_________________________________________________________________\n",
      "leaky_re_lu_2 (LeakyReLU)    (None, 24, 24, 60)        0         \n",
      "_________________________________________________________________\n",
      "max_pooling2d_1 (MaxPooling2 (None, 12, 12, 60)        0         \n",
      "_________________________________________________________________\n",
      "conv2d_3 (Conv2D)            (None, 10, 10, 30)        16230     \n",
      "_________________________________________________________________\n",
      "leaky_re_lu_3 (LeakyReLU)    (None, 10, 10, 30)        0         \n",
      "_________________________________________________________________\n",
      "conv2d_4 (Conv2D)            (None, 8, 8, 30)          8130      \n",
      "_________________________________________________________________\n",
      "leaky_re_lu_4 (LeakyReLU)    (None, 8, 8, 30)          0         \n",
      "_________________________________________________________________\n",
      "max_pooling2d_2 (MaxPooling2 (None, 4, 4, 30)          0         \n",
      "_________________________________________________________________\n",
      "dropout_1 (Dropout)          (None, 4, 4, 30)          0         \n",
      "_________________________________________________________________\n",
      "flatten_1 (Flatten)          (None, 480)               0         \n",
      "_________________________________________________________________\n",
      "dense_1 (Dense)              (None, 500)               240500    \n",
      "_________________________________________________________________\n",
      "leaky_re_lu_5 (LeakyReLU)    (None, 500)               0         \n",
      "_________________________________________________________________\n",
      "dropout_2 (Dropout)          (None, 500)               0         \n",
      "_________________________________________________________________\n",
      "dense_2 (Dense)              (None, 43)                21543     \n",
      "=================================================================\n",
      "Total params: 378,023\n",
      "Trainable params: 378,023\n",
      "Non-trainable params: 0\n",
      "_________________________________________________________________\n",
      "Epoch 1/20\n",
      "39209/39209 [==============================] - 11s 273us/step - loss: 1.1397 - accuracy: 0.6855\n",
      "Epoch 2/20\n",
      "39209/39209 [==============================] - 9s 230us/step - loss: 0.2197 - accuracy: 0.9344\n",
      "Epoch 3/20\n",
      "39209/39209 [==============================] - 9s 230us/step - loss: 0.1426 - accuracy: 0.9582\n",
      "Epoch 4/20\n",
      "39209/39209 [==============================] - 9s 224us/step - loss: 0.1090 - accuracy: 0.9689\n",
      "Epoch 5/20\n",
      "39209/39209 [==============================] - 9s 224us/step - loss: 0.0884 - accuracy: 0.9740\n",
      "Epoch 6/20\n",
      "39209/39209 [==============================] - 9s 223us/step - loss: 0.0776 - accuracy: 0.9780\n",
      "Epoch 7/20\n",
      "39209/39209 [==============================] - 9s 223us/step - loss: 0.0740 - accuracy: 0.9787\n",
      "Epoch 8/20\n",
      "39209/39209 [==============================] - 9s 222us/step - loss: 0.0648 - accuracy: 0.9816\n",
      "Epoch 9/20\n",
      "39209/39209 [==============================] - 9s 226us/step - loss: 0.0581 - accuracy: 0.9845\n",
      "Epoch 10/20\n",
      "39209/39209 [==============================] - 9s 226us/step - loss: 0.0587 - accuracy: 0.9856\n",
      "Epoch 11/20\n",
      "39209/39209 [==============================] - 9s 223us/step - loss: 0.0528 - accuracy: 0.9856\n",
      "Epoch 12/20\n",
      "39209/39209 [==============================] - 9s 223us/step - loss: 0.0507 - accuracy: 0.9861\n",
      "Epoch 13/20\n",
      "39209/39209 [==============================] - 9s 223us/step - loss: 0.0513 - accuracy: 0.9862\n",
      "Epoch 14/20\n",
      "39209/39209 [==============================] - 9s 223us/step - loss: 0.0495 - accuracy: 0.9870\n",
      "Epoch 15/20\n",
      "39209/39209 [==============================] - 9s 223us/step - loss: 0.0484 - accuracy: 0.9869\n",
      "Epoch 16/20\n",
      "39209/39209 [==============================] - 9s 224us/step - loss: 0.0449 - accuracy: 0.9877\n",
      "Epoch 17/20\n",
      "39209/39209 [==============================] - 9s 224us/step - loss: 0.0411 - accuracy: 0.9896\n",
      "Epoch 18/20\n",
      "39209/39209 [==============================] - 9s 223us/step - loss: 0.0450 - accuracy: 0.9880\n",
      "Epoch 19/20\n",
      "39209/39209 [==============================] - 9s 224us/step - loss: 0.0429 - accuracy: 0.9888\n",
      "Epoch 20/20\n",
      "39209/39209 [==============================] - 9s 224us/step - loss: 0.0384 - accuracy: 0.9904\n"
     ]
    }
   ],
   "source": [
    "if __name__==\"__main__\":\n",
    "#模型训练\n",
    "    y_train = to_categorical(y_train, n_classes)\n",
    "    y_test = to_categorical(y_test, n_classes)\n",
    "\n",
    "    model=ImLeNet(X_train,y_train)\n",
    "    model.fit(x=X_train,y=y_train, batch_size=20,epochs=20,verbose=1)\n",
    "    #模型评估"
   ]
  },
  {
   "cell_type": "code",
   "execution_count": 15,
   "metadata": {
    "ExecuteTime": {
     "end_time": "2021-11-28T13:34:35.451120Z",
     "start_time": "2021-11-28T13:34:34.170544Z"
    }
   },
   "outputs": [
    {
     "name": "stdout",
     "output_type": "stream",
     "text": [
      "12630/12630 [==============================] - 1s 97us/step\n"
     ]
    },
    {
     "data": {
      "text/plain": [
       "[0.1318213647448234, 0.9742676019668579]"
      ]
     },
     "execution_count": 15,
     "metadata": {},
     "output_type": "execute_result"
    }
   ],
   "source": [
    "model.evaluate(x=X_test,y=y_test)"
   ]
  },
  {
   "cell_type": "code",
   "execution_count": 16,
   "metadata": {
    "ExecuteTime": {
     "end_time": "2021-11-28T13:34:36.449451Z",
     "start_time": "2021-11-28T13:34:35.453116Z"
    }
   },
   "outputs": [
    {
     "name": "stdout",
     "output_type": "stream",
     "text": [
      "12630/12630 [==============================] - 1s 78us/step\n",
      "loss:0.1318213647448234===acc:0.9742676019668579\n"
     ]
    }
   ],
   "source": [
    "loss,acc=model.evaluate(x=X_test,y=y_test)\n",
    "print(\"loss:{}===acc:{}\".format(loss,acc))"
   ]
  },
  {
   "cell_type": "code",
   "execution_count": 17,
   "metadata": {
    "ExecuteTime": {
     "end_time": "2021-11-28T13:34:36.454439Z",
     "start_time": "2021-11-28T13:34:36.450448Z"
    }
   },
   "outputs": [
    {
     "data": {
      "text/plain": [
       "(39209, 32, 32, 1)"
      ]
     },
     "execution_count": 17,
     "metadata": {},
     "output_type": "execute_result"
    }
   ],
   "source": [
    "X_train.shape"
   ]
  },
  {
   "cell_type": "code",
   "execution_count": 18,
   "metadata": {
    "ExecuteTime": {
     "end_time": "2021-11-28T13:34:36.467403Z",
     "start_time": "2021-11-28T13:34:36.455436Z"
    }
   },
   "outputs": [
    {
     "data": {
      "text/plain": [
       "(39209, 32, 32, 1)"
      ]
     },
     "execution_count": 18,
     "metadata": {},
     "output_type": "execute_result"
    }
   ],
   "source": [
    "X_train.shape"
   ]
  },
  {
   "cell_type": "code",
   "execution_count": 19,
   "metadata": {
    "ExecuteTime": {
     "end_time": "2021-11-28T13:34:36.479371Z",
     "start_time": "2021-11-28T13:34:36.468400Z"
    }
   },
   "outputs": [
    {
     "data": {
      "text/plain": [
       "(39209, 32, 32, 1)"
      ]
     },
     "execution_count": 19,
     "metadata": {},
     "output_type": "execute_result"
    }
   ],
   "source": [
    "X_train.shape"
   ]
  },
  {
   "cell_type": "code",
   "execution_count": 20,
   "metadata": {
    "ExecuteTime": {
     "end_time": "2021-11-28T13:34:36.490342Z",
     "start_time": "2021-11-28T13:34:36.480368Z"
    }
   },
   "outputs": [
    {
     "data": {
      "text/plain": [
       "array([[1., 0., 0., ..., 0., 0., 0.],\n",
       "       [1., 0., 0., ..., 0., 0., 0.],\n",
       "       [1., 0., 0., ..., 0., 0., 0.],\n",
       "       ...,\n",
       "       [0., 0., 0., ..., 0., 0., 1.],\n",
       "       [0., 0., 0., ..., 0., 0., 1.],\n",
       "       [0., 0., 0., ..., 0., 0., 1.]], dtype=float32)"
      ]
     },
     "execution_count": 20,
     "metadata": {},
     "output_type": "execute_result"
    }
   ],
   "source": [
    "y_train"
   ]
  },
  {
   "cell_type": "code",
   "execution_count": null,
   "metadata": {},
   "outputs": [],
   "source": []
  }
 ],
 "metadata": {
  "kernelspec": {
   "display_name": "Python 3",
   "language": "python",
   "name": "python3"
  },
  "language_info": {
   "codemirror_mode": {
    "name": "ipython",
    "version": 3
   },
   "file_extension": ".py",
   "mimetype": "text/x-python",
   "name": "python",
   "nbconvert_exporter": "python",
   "pygments_lexer": "ipython3",
   "version": "3.7.3"
  }
 },
 "nbformat": 4,
 "nbformat_minor": 4
}
