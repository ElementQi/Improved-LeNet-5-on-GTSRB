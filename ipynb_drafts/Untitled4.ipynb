{
 "cells": [
  {
   "cell_type": "code",
   "execution_count": 2,
   "metadata": {
    "ExecuteTime": {
     "end_time": "2021-11-30T12:01:08.599926Z",
     "start_time": "2021-11-30T12:01:07.849932Z"
    }
   },
   "outputs": [],
   "source": [
    "from keras.models import load_model\n",
    "import csv\n",
    "import pandas as pd\n",
    "import numpy as np\n",
    "from skimage import exposure\n",
    "import matplotlib.pyplot as plt\n",
    "from keras.preprocessing.image import load_img, img_to_array, array_to_img\n",
    "from sklearn.model_selection import train_test_split\n",
    "from matplotlib.pyplot import MultipleLocator\n",
    "import warnings\n",
    "warnings.filterwarnings(\"ignore\")"
   ]
  },
  {
   "cell_type": "code",
   "execution_count": 5,
   "metadata": {
    "ExecuteTime": {
     "end_time": "2021-11-30T12:17:50.428480Z",
     "start_time": "2021-11-30T12:17:50.420502Z"
    }
   },
   "outputs": [],
   "source": [
    "# The German Traffic Sign Recognition Benchmark\n",
    "# function for reading the images\n",
    "# arguments: path to the traffic sign data, for example './GTSRB/Training'\n",
    "# returns: list of images, list of corresponding labels \n",
    "# grayscale type image can not be shown by plt.imshow function\n",
    "# image array: for int: [0..255], for float: [0..1]\n",
    "def readTrafficSigns(rootpath, img_size=(28,28), val_size=0.2, grayscale=True):\n",
    "    '''Reads traffic sign data for German Traffic Sign Recognition Benchmark.\n",
    "    \n",
    "    Loads an image from file, resize to img_size and return as numpy array.\n",
    "    Values are normalized to range [0,1].\n",
    "    :param img: image path\n",
    "    :param img_size: image size as tuple (width, height)\n",
    "    :return: ndarray (width, height, 3) or (width, height)\n",
    "    \n",
    "    Arguments: path to the traffic sign data, for example './GTSRB/Training'\n",
    "    Returns:   list of images, list of corresponding labels\n",
    "    '''\n",
    "    \n",
    "    images_train = [] # images\n",
    "    images_val = [] # images\n",
    "    \n",
    "    labels_train = [] # corresponding labels\n",
    "    labels_val = [] # corresponding labels\n",
    "    # loop over all 42 classes\n",
    "    for c in range(0,43):\n",
    "        prefix = rootpath + '/' + format(c, '05d') + '/' # subdirectory for class\n",
    "        gtFile = open(prefix + 'GT-'+ format(c, '05d') + '.csv') # annotations file\n",
    "        gtReader = csv.reader(gtFile, delimiter=';') # csv parser for annotations file\n",
    "        next(gtReader) # skip header\n",
    "        # loop over all images in current annotations file\n",
    "        imglist=[]\n",
    "        labelist=[]\n",
    "        \n",
    "        for row in gtReader:\n",
    "            img = prefix + row[0]\n",
    "            if grayscale == True:\n",
    "                img = load_img(img, target_size=img_size, color_mode='grayscale')\n",
    "            else:\n",
    "                img = load_img(img, target_size=img_size, color_mode='rgb')\n",
    "\n",
    "            img = img_to_array(img)\n",
    "            img = img/255\n",
    "            img = img.clip(0, 1)\n",
    "            img = exposure.equalize_hist(img)\n",
    "            \n",
    "            label=int(row[7])\n",
    "            imglist.append(img)\n",
    "            labelist.append(label)\n",
    "            \n",
    "        X_train, X_val, y_train, y_val = train_test_split(imglist, labelist, test_size=val_size, random_state=42)\n",
    "        \n",
    "        images_train.extend(X_train)\n",
    "        images_val.extend(X_val)\n",
    "        \n",
    "        labels_train.extend(y_train)\n",
    "        labels_val.extend(y_val)\n",
    "        \n",
    "        gtFile.close()\n",
    "    return np.array(images_train), np.array(images_val), labels_train, labels_val"
   ]
  },
  {
   "cell_type": "code",
   "execution_count": 6,
   "metadata": {
    "ExecuteTime": {
     "end_time": "2021-11-30T12:17:50.741935Z",
     "start_time": "2021-11-30T12:17:50.736925Z"
    }
   },
   "outputs": [],
   "source": [
    "def readTrafficSigns_test(rootpath, img_size=(28,28), grayscale=True):\n",
    "    images = [] # images\n",
    "    labels = [] # corresponding labels\n",
    "    \n",
    "    gtFile = open(rootpath+\"/GT-final_test.csv\") # annotations file\n",
    "    gtReader = csv.reader(gtFile, delimiter=';') # csv parser for annotations file\n",
    "    next(gtReader) # skip header\n",
    "    # loop over all images in current annotations file\n",
    "    for row in gtReader:\n",
    "        img = rootpath + '/' + row[0]\n",
    "        if grayscale == True:\n",
    "            img = load_img(img, target_size=img_size, color_mode='grayscale')\n",
    "        else:\n",
    "            img = load_img(img, target_size=img_size, color_mode='rgb')\n",
    "\n",
    "        img = img_to_array(img)\n",
    "        img = img/255\n",
    "        img = img.clip(0, 1)\n",
    "        img = exposure.equalize_hist(img)\n",
    "\n",
    "        images.append(img)\n",
    "        labels.append(int(row[7])) # the 8th column is the label\n",
    "    gtFile.close()\n",
    "    return np.array(images), labels"
   ]
  },
  {
   "cell_type": "code",
   "execution_count": 16,
   "metadata": {
    "ExecuteTime": {
     "end_time": "2021-11-30T12:31:04.115573Z",
     "start_time": "2021-11-30T12:31:04.107594Z"
    }
   },
   "outputs": [],
   "source": [
    "def readTrafficSigns_raw(rootpath, img_size=(32,32), val_size=0.2, grayscale=True):\n",
    "    '''Reads traffic sign data for German Traffic Sign Recognition Benchmark.\n",
    "    \n",
    "    Loads an image from file, resize to img_size and return as numpy array.\n",
    "    Values are normalized to range [0,1].\n",
    "    :param img: image path\n",
    "    :param img_size: image size as tuple (width, height)\n",
    "    :return: ndarray (width, height, 3) or (width, height)\n",
    "    \n",
    "    Arguments: path to the traffic sign data, for example './GTSRB/Training'\n",
    "    Returns:   list of images, list of corresponding labels\n",
    "    '''\n",
    "    \n",
    "    images_train = [] # images\n",
    "    images_val = [] # images\n",
    "    \n",
    "    labels_train = [] # corresponding labels\n",
    "    labels_val = [] # corresponding labels\n",
    "    # loop over all 42 classes\n",
    "    for c in range(0,43):\n",
    "        prefix = rootpath + '/' + format(c, '05d') + '/' # subdirectory for class\n",
    "        gtFile = open(prefix + 'GT-'+ format(c, '05d') + '.csv') # annotations file\n",
    "        gtReader = csv.reader(gtFile, delimiter=';') # csv parser for annotations file\n",
    "        next(gtReader) # skip header\n",
    "        # loop over all images in current annotations file\n",
    "        imglist=[]\n",
    "        labelist=[]\n",
    "        \n",
    "        for row in gtReader:\n",
    "            img = prefix + row[0]\n",
    "            if grayscale == True:\n",
    "                img = load_img(img, target_size=img_size, color_mode='grayscale')\n",
    "            else:\n",
    "                img = load_img(img, target_size=img_size, color_mode='rgb')\n",
    "\n",
    "            img = img_to_array(img)\n",
    "            img = img/255\n",
    "            img = img.clip(0, 1)\n",
    "#             img = exposure.equalize_hist(img)\n",
    "            \n",
    "            label=int(row[7])\n",
    "            imglist.append(img)\n",
    "            labelist.append(label)\n",
    "            \n",
    "        X_train, X_val, y_train, y_val = train_test_split(imglist, labelist, test_size=val_size, random_state=42)\n",
    "        \n",
    "        images_train.extend(X_train)\n",
    "        images_val.extend(X_val)\n",
    "        \n",
    "        labels_train.extend(y_train)\n",
    "        labels_val.extend(y_val)\n",
    "        \n",
    "        gtFile.close()\n",
    "    return np.array(images_train), np.array(images_val), labels_train, labels_val"
   ]
  },
  {
   "cell_type": "code",
   "execution_count": 7,
   "metadata": {
    "ExecuteTime": {
     "end_time": "2021-11-30T12:18:34.642206Z",
     "start_time": "2021-11-30T12:17:55.272269Z"
    }
   },
   "outputs": [],
   "source": [
    "train_path = '../data/GTSRB/Final_Training/Images'\n",
    "test_path = '../data/GTSRB/Final_Test/Images'\n",
    "\n",
    "img_size = (32,32)\n",
    "gray=True\n",
    "val_size=0.2\n",
    "\n",
    "X_train, X_val, y_train, y_val = readTrafficSigns(train_path, img_size=img_size, grayscale=gray, val_size=val_size)\n",
    "X_test, y_test = readTrafficSigns_test(test_path, img_size=img_size, grayscale=gray)"
   ]
  },
  {
   "cell_type": "code",
   "execution_count": 17,
   "metadata": {
    "ExecuteTime": {
     "end_time": "2021-11-30T12:31:16.897407Z",
     "start_time": "2021-11-30T12:31:06.671712Z"
    }
   },
   "outputs": [],
   "source": [
    "gray=False\n",
    "rX_train, rX_val, ry_train, ry_val = readTrafficSigns_raw(train_path, img_size=img_size, grayscale=gray, val_size=val_size)"
   ]
  },
  {
   "cell_type": "code",
   "execution_count": 39,
   "metadata": {
    "ExecuteTime": {
     "end_time": "2021-11-30T12:39:43.382104Z",
     "start_time": "2021-11-30T12:39:43.340187Z"
    }
   },
   "outputs": [
    {
     "data": {
      "image/png": "[encoded data removed]",
      "text/plain": [
       "<Figure size 288x288 with 1 Axes>"
      ]
     },
     "metadata": {
      "needs_background": "light"
     },
     "output_type": "display_data"
    }
   ],
   "source": [
    "import os\n",
    "\n",
    "fig, ax = plt.subplots(figsize=(4,4))\n",
    "ax.imshow(array_to_img(X_train[200]), cmap='gray', )\n",
    "plt.axis('off')\n",
    "fig_dir = './images'\n",
    "fig_ext = '.png'\n",
    "fig.savefig(os.path.join(fig_dir, 'processed_train' + fig_ext))"
   ]
  },
  {
   "cell_type": "code",
   "execution_count": 40,
   "metadata": {
    "ExecuteTime": {
     "end_time": "2021-11-30T12:39:43.782348Z",
     "start_time": "2021-11-30T12:39:43.744452Z"
    }
   },
   "outputs": [
    {
     "data": {
      "image/png": "[encoded data removed]",
      "text/plain": [
       "<Figure size 288x288 with 1 Axes>"
      ]
     },
     "metadata": {
      "needs_background": "light"
     },
     "output_type": "display_data"
    }
   ],
   "source": [
    "fig, ax = plt.subplots(figsize=(4,4))\n",
    "ax.imshow(array_to_img(rX_train[200]))\n",
    "plt.axis('off')\n",
    "fig_dir = './images'\n",
    "fig_ext = '.png'\n",
    "fig.savefig(os.path.join(fig_dir, 'non_processed_train' + fig_ext))"
   ]
  },
  {
   "cell_type": "code",
   "execution_count": 41,
   "metadata": {
    "ExecuteTime": {
     "end_time": "2021-11-30T12:39:44.185626Z",
     "start_time": "2021-11-30T12:39:44.144736Z"
    }
   },
   "outputs": [
    {
     "data": {
      "image/png": "[encoded data removed]",
      "text/plain": [
       "<Figure size 288x288 with 1 Axes>"
      ]
     },
     "metadata": {
      "needs_background": "light"
     },
     "output_type": "display_data"
    }
   ],
   "source": [
    "fig, ax = plt.subplots(figsize=(4,4))\n",
    "ax.imshow(array_to_img(X_val[5000]), cmap='gray')\n",
    "plt.axis('off')\n",
    "fig_dir = './images'\n",
    "fig_ext = '.png'\n",
    "fig.savefig(os.path.join(fig_dir, 'processed_val' + fig_ext))"
   ]
  },
  {
   "cell_type": "code",
   "execution_count": 42,
   "metadata": {
    "ExecuteTime": {
     "end_time": "2021-11-30T12:39:44.450958Z",
     "start_time": "2021-11-30T12:39:44.412056Z"
    }
   },
   "outputs": [
    {
     "data": {
      "image/png": "[encoded data removed]",
      "text/plain": [
       "<Figure size 288x288 with 1 Axes>"
      ]
     },
     "metadata": {
      "needs_background": "light"
     },
     "output_type": "display_data"
    }
   ],
   "source": [
    "fig, ax = plt.subplots(figsize=(4,4))\n",
    "ax.imshow(array_to_img(rX_val[5000]))\n",
    "plt.axis('off')\n",
    "fig_dir = './images'\n",
    "fig_ext = '.png'\n",
    "fig.savefig(os.path.join(fig_dir, 'non_processed_val' + fig_ext))"
   ]
  },
  {
   "cell_type": "code",
   "execution_count": 43,
   "metadata": {
    "ExecuteTime": {
     "end_time": "2021-11-30T12:39:44.780048Z",
     "start_time": "2021-11-30T12:39:44.739157Z"
    }
   },
   "outputs": [
    {
     "data": {
      "image/png": "[encoded data removed]",
      "text/plain": [
       "<Figure size 288x288 with 1 Axes>"
      ]
     },
     "metadata": {
      "needs_background": "light"
     },
     "output_type": "display_data"
    }
   ],
   "source": [
    "fig, ax = plt.subplots(figsize=(4,4))\n",
    "ax.imshow(array_to_img(X_val[2000]), cmap='gray')\n",
    "plt.axis('off')\n",
    "fig_dir = './images'\n",
    "fig_ext = '.png'\n",
    "fig.savefig(os.path.join(fig_dir, 'processed_test' + fig_ext))"
   ]
  },
  {
   "cell_type": "code",
   "execution_count": 44,
   "metadata": {
    "ExecuteTime": {
     "end_time": "2021-11-30T12:39:45.026543Z",
     "start_time": "2021-11-30T12:39:44.989642Z"
    }
   },
   "outputs": [
    {
     "data": {
      "image/png": "[encoded data removed]",
      "text/plain": [
       "<Figure size 288x288 with 1 Axes>"
      ]
     },
     "metadata": {
      "needs_background": "light"
     },
     "output_type": "display_data"
    }
   ],
   "source": [
    "fig, ax = plt.subplots(figsize=(4,4))\n",
    "ax.imshow(array_to_img(rX_val[2000]))\n",
    "plt.axis('off')\n",
    "fig_dir = './images'\n",
    "fig_ext = '.png'\n",
    "fig.savefig(os.path.join(fig_dir, 'non_processed_test' + fig_ext))"
   ]
  },
  {
   "cell_type": "code",
   "execution_count": 50,
   "metadata": {
    "ExecuteTime": {
     "end_time": "2021-11-30T12:48:42.819359Z",
     "start_time": "2021-11-30T12:48:42.814373Z"
    }
   },
   "outputs": [],
   "source": [
    "signnames_file = 'C:/Users/ElementQi/Desktop/dataScienceProgramming/pythonProject/data/GTSRB/signnames.csv'\n",
    "with open(signnames_file) as f:\n",
    "    f.readline() # Strip the header\n",
    "    tuples = [line.strip().split(',') for line in f]\n",
    "    sign_names = {int(t[0]): t[1] for t in tuples}"
   ]
  },
  {
   "cell_type": "code",
   "execution_count": 51,
   "metadata": {
    "ExecuteTime": {
     "end_time": "2021-11-30T12:48:53.420874Z",
     "start_time": "2021-11-30T12:48:53.416858Z"
    },
    "scrolled": true
   },
   "outputs": [
    {
     "data": {
      "text/plain": [
       "{0: 'Speed limit (20km/h)',\n",
       " 1: 'Speed limit (30km/h)',\n",
       " 2: 'Speed limit (50km/h)',\n",
       " 3: 'Speed limit (60km/h)',\n",
       " 4: 'Speed limit (70km/h)',\n",
       " 5: 'Speed limit (80km/h)',\n",
       " 6: 'End of speed limit (80km/h)',\n",
       " 7: 'Speed limit (100km/h)',\n",
       " 8: 'Speed limit (120km/h)',\n",
       " 9: 'No passing',\n",
       " 10: 'No passing for vechiles over 3.5 metric tons',\n",
       " 11: 'Right-of-way at the next intersection',\n",
       " 12: 'Priority road',\n",
       " 13: 'Yield',\n",
       " 14: 'Stop',\n",
       " 15: 'No vechiles',\n",
       " 16: 'Vechiles over 3.5 metric tons prohibited',\n",
       " 17: 'No entry',\n",
       " 18: 'General caution',\n",
       " 19: 'Dangerous curve to the left',\n",
       " 20: 'Dangerous curve to the right',\n",
       " 21: 'Double curve',\n",
       " 22: 'Bumpy road',\n",
       " 23: 'Slippery road',\n",
       " 24: 'Road narrows on the right',\n",
       " 25: 'Road work',\n",
       " 26: 'Traffic signals',\n",
       " 27: 'Pedestrians',\n",
       " 28: 'Children crossing',\n",
       " 29: 'Bicycles crossing',\n",
       " 30: 'Beware of ice/snow',\n",
       " 31: 'Wild animals crossing',\n",
       " 32: 'End of all speed and passing limits',\n",
       " 33: 'Turn right ahead',\n",
       " 34: 'Turn left ahead',\n",
       " 35: 'Ahead only',\n",
       " 36: 'Go straight or right',\n",
       " 37: 'Go straight or left',\n",
       " 38: 'Keep right',\n",
       " 39: 'Keep left',\n",
       " 40: 'Roundabout mandatory',\n",
       " 41: 'End of no passing',\n",
       " 42: 'End of no passing by vechiles over 3.5 metric tons'}"
      ]
     },
     "execution_count": 51,
     "metadata": {},
     "output_type": "execute_result"
    }
   ],
   "source": [
    "sign_names"
   ]
  },
  {
   "cell_type": "code",
   "execution_count": 46,
   "metadata": {
    "ExecuteTime": {
     "end_time": "2021-11-30T12:42:12.090327Z",
     "start_time": "2021-11-30T12:42:09.380223Z"
    }
   },
   "outputs": [],
   "source": [
    "model = load_model('weights22.best.hdf5')"
   ]
  },
  {
   "cell_type": "code",
   "execution_count": 49,
   "metadata": {
    "ExecuteTime": {
     "end_time": "2021-11-30T12:48:11.490985Z",
     "start_time": "2021-11-30T12:48:08.881911Z"
    }
   },
   "outputs": [
    {
     "data": {
      "text/plain": [
       "array([6, 6], dtype=int64)"
      ]
     },
     "execution_count": 49,
     "metadata": {},
     "output_type": "execute_result"
    }
   ],
   "source": [
    "model.predict_classes(X_val[1999:2001])"
   ]
  },
  {
   "cell_type": "code",
   "execution_count": 57,
   "metadata": {
    "ExecuteTime": {
     "end_time": "2021-11-30T12:55:24.305999Z",
     "start_time": "2021-11-30T12:55:24.300015Z"
    }
   },
   "outputs": [],
   "source": [
    "img_path = '20.png'\n",
    "img = load_img(img_path, target_size=(32,32), color_mode='grayscale')\n",
    "\n",
    "img = img_to_array(img)\n",
    "img = img/255\n",
    "img = img.clip(0, 1)\n",
    "img = exposure.equalize_hist(img)\n",
    "\n",
    "# label=int(row[7])\n",
    "# imglist.append(img)\n",
    "# labelist.append(label)"
   ]
  },
  {
   "cell_type": "code",
   "execution_count": 60,
   "metadata": {
    "ExecuteTime": {
     "end_time": "2021-11-30T12:56:47.405699Z",
     "start_time": "2021-11-30T12:56:47.362815Z"
    }
   },
   "outputs": [
    {
     "data": {
      "image/png": "[encoded data removed]",
      "text/plain": [
       "<Figure size 288x288 with 1 Axes>"
      ]
     },
     "metadata": {
      "needs_background": "light"
     },
     "output_type": "display_data"
    }
   ],
   "source": [
    "fig, ax = plt.subplots(figsize=(4,4))\n",
    "ax.imshow(array_to_img(img), cmap='gray')\n",
    "plt.axis('off')\n",
    "fig_dir = './images'\n",
    "fig_ext = '.png'\n",
    "fig.savefig(os.path.join(fig_dir, 'processed_real' + fig_ext))"
   ]
  },
  {
   "cell_type": "code",
   "execution_count": 58,
   "metadata": {
    "ExecuteTime": {
     "end_time": "2021-11-30T12:55:29.346968Z",
     "start_time": "2021-11-30T12:55:29.316051Z"
    }
   },
   "outputs": [
    {
     "data": {
      "text/plain": [
       "array([0], dtype=int64)"
      ]
     },
     "execution_count": 58,
     "metadata": {},
     "output_type": "execute_result"
    }
   ],
   "source": [
    "model.predict_classes(np.array([img]))"
   ]
  },
  {
   "cell_type": "code",
   "execution_count": 61,
   "metadata": {
    "ExecuteTime": {
     "end_time": "2021-11-30T12:59:06.823895Z",
     "start_time": "2021-11-30T12:59:06.795000Z"
    }
   },
   "outputs": [
    {
     "data": {
      "text/plain": [
       "array([[9.8923045e-01, 1.5674975e-07, 7.0385108e-12, 3.0182657e-05,\n",
       "        3.2231716e-16, 6.6401259e-12, 1.2940328e-10, 2.0631902e-21,\n",
       "        7.6508849e-10, 1.7904546e-12, 9.4161515e-14, 6.2012928e-09,\n",
       "        2.6244756e-13, 8.1948709e-18, 1.8861422e-10, 2.8163416e-11,\n",
       "        2.0489070e-07, 5.7602203e-13, 4.6559805e-08, 4.6414140e-11,\n",
       "        4.0964804e-14, 1.3425783e-15, 5.5191559e-12, 2.5190414e-10,\n",
       "        3.5043101e-12, 7.8570437e-16, 1.2381696e-12, 1.2463529e-13,\n",
       "        1.1173687e-05, 8.3375051e-07, 8.2041731e-15, 1.0726848e-02,\n",
       "        5.9787307e-11, 3.1147060e-12, 5.4342997e-10, 1.1521628e-09,\n",
       "        2.0443577e-12, 6.8561484e-08, 3.9319016e-08, 3.2843857e-09,\n",
       "        2.2652172e-08, 9.2686428e-15, 9.1403339e-17]], dtype=float32)"
      ]
     },
     "execution_count": 61,
     "metadata": {},
     "output_type": "execute_result"
    }
   ],
   "source": [
    "model.predict_proba(np.array([img]))"
   ]
  },
  {
   "cell_type": "code",
   "execution_count": null,
   "metadata": {},
   "outputs": [],
   "source": [
    "Most probable class: Speed limit (20km/h)\n",
    "Probability: 9.8923045e-01."
   ]
  },
  {
   "cell_type": "code",
   "execution_count": 53,
   "metadata": {
    "ExecuteTime": {
     "end_time": "2021-11-30T12:51:20.498186Z",
     "start_time": "2021-11-30T12:51:20.493199Z"
    }
   },
   "outputs": [
    {
     "data": {
      "text/plain": [
       "array([[[0.88470019],\n",
       "        [0.88470019],\n",
       "        [0.94726562],\n",
       "        ...,\n",
       "        [0.88470019],\n",
       "        [0.88470019],\n",
       "        [0.73948901]],\n",
       "\n",
       "       [[0.73948901],\n",
       "        [0.88470019],\n",
       "        [0.88470019],\n",
       "        ...,\n",
       "        [0.88470019],\n",
       "        [0.67578125],\n",
       "        [0.73948901]],\n",
       "\n",
       "       [[0.67578125],\n",
       "        [0.73948901],\n",
       "        [0.73948901],\n",
       "        ...,\n",
       "        [0.73948901],\n",
       "        [0.73948901],\n",
       "        [0.67578125]],\n",
       "\n",
       "       ...,\n",
       "\n",
       "       [[0.88470019],\n",
       "        [0.88470019],\n",
       "        [0.73948901],\n",
       "        ...,\n",
       "        [0.53378705],\n",
       "        [0.53378705],\n",
       "        [0.53378705]],\n",
       "\n",
       "       [[0.67578125],\n",
       "        [0.88470019],\n",
       "        [0.73948901],\n",
       "        ...,\n",
       "        [0.50289937],\n",
       "        [0.50289937],\n",
       "        [0.53378705]],\n",
       "\n",
       "       [[0.73948901],\n",
       "        [0.67578125],\n",
       "        [0.67578125],\n",
       "        ...,\n",
       "        [0.50289937],\n",
       "        [0.50289937],\n",
       "        [0.50289937]]])"
      ]
     },
     "execution_count": 53,
     "metadata": {},
     "output_type": "execute_result"
    }
   ],
   "source": [
    "img"
   ]
  },
  {
   "cell_type": "code",
   "execution_count": null,
   "metadata": {},
   "outputs": [],
   "source": []
  }
 ],
 "metadata": {
  "kernelspec": {
   "display_name": "Python 3",
   "language": "python",
   "name": "python3"
  },
  "language_info": {
   "codemirror_mode": {
    "name": "ipython",
    "version": 3
   },
   "file_extension": ".py",
   "mimetype": "text/x-python",
   "name": "python",
   "nbconvert_exporter": "python",
   "pygments_lexer": "ipython3",
   "version": "3.7.3"
  }
 },
 "nbformat": 4,
 "nbformat_minor": 4
}
