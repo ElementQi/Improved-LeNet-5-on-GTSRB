{
 "cells": [
  {
   "cell_type": "markdown",
   "metadata": {},
   "source": [
    "# load the data"
   ]
  },
  {
   "cell_type": "code",
   "execution_count": 1,
   "metadata": {
    "ExecuteTime": {
     "end_time": "2021-11-28T21:02:28.408167Z",
     "start_time": "2021-11-28T21:02:26.467077Z"
    }
   },
   "outputs": [
    {
     "name": "stderr",
     "output_type": "stream",
     "text": [
      "Using TensorFlow backend.\n"
     ]
    }
   ],
   "source": [
    "import csv\n",
    "import pandas as pd\n",
    "import numpy as np\n",
    "from skimage import exposure\n",
    "import matplotlib.pyplot as plt\n",
    "from keras.preprocessing.image import load_img, img_to_array, array_to_img"
   ]
  },
  {
   "cell_type": "code",
   "execution_count": 2,
   "metadata": {
    "ExecuteTime": {
     "end_time": "2021-11-28T21:02:28.417116Z",
     "start_time": "2021-11-28T21:02:28.409164Z"
    }
   },
   "outputs": [],
   "source": [
    "# The German Traffic Sign Recognition Benchmark\n",
    "# function for reading the images\n",
    "# arguments: path to the traffic sign data, for example './GTSRB/Training'\n",
    "# returns: list of images, list of corresponding labels \n",
    "# grayscale type image can not be shown by plt.imshow function\n",
    "# image array: for int: [0..255], for float: [0..1]\n",
    "def readTrafficSigns(rootpath, img_size=(28,28), grayscale=True):\n",
    "    '''Reads traffic sign data for German Traffic Sign Recognition Benchmark.\n",
    "    \n",
    "    Loads an image from file, resize to img_size and return as numpy array.\n",
    "    Values are normalized to range [0,1].\n",
    "    :param img: image path\n",
    "    :param img_size: image size as tuple (width, height)\n",
    "    :return: ndarray (width, height, 3) or (width, height)\n",
    "    \n",
    "    Arguments: path to the traffic sign data, for example './GTSRB/Training'\n",
    "    Returns:   list of images, list of corresponding labels\n",
    "    '''\n",
    "    \n",
    "    images = [] # images\n",
    "    labels = [] # corresponding labels\n",
    "    # loop over all 42 classes\n",
    "    for c in range(0,43):\n",
    "        prefix = rootpath + '/' + format(c, '05d') + '/' # subdirectory for class\n",
    "        gtFile = open(prefix + 'GT-'+ format(c, '05d') + '.csv') # annotations file\n",
    "        gtReader = csv.reader(gtFile, delimiter=';') # csv parser for annotations file\n",
    "        next(gtReader) # skip header\n",
    "        # loop over all images in current annotations file\n",
    "        for row in gtReader:\n",
    "            img = prefix + row[0]\n",
    "            if grayscale == True:\n",
    "                img = load_img(img, target_size=img_size, color_mode='grayscale')\n",
    "            else:\n",
    "                img = load_img(img, target_size=img_size, color_mode='rgb')\n",
    "\n",
    "            img = img_to_array(img)\n",
    "            img = img/255\n",
    "            img = img.clip(0, 1)\n",
    "            img = exposure.equalize_hist(img)\n",
    "            \n",
    "            images.append(img)\n",
    "            labels.append(int(row[7])) # the 8th column is the label\n",
    "        gtFile.close()\n",
    "    return np.array(images), labels"
   ]
  },
  {
   "cell_type": "code",
   "execution_count": 3,
   "metadata": {
    "ExecuteTime": {
     "end_time": "2021-11-28T21:02:28.429108Z",
     "start_time": "2021-11-28T21:02:28.418150Z"
    }
   },
   "outputs": [],
   "source": [
    "def readTrafficSigns_test(rootpath, img_size=(28,28), grayscale=True):\n",
    "    images = [] # images\n",
    "    labels = [] # corresponding labels\n",
    "    \n",
    "    gtFile = open(rootpath+\"/GT-final_test.csv\") # annotations file\n",
    "    gtReader = csv.reader(gtFile, delimiter=';') # csv parser for annotations file\n",
    "    next(gtReader) # skip header\n",
    "    # loop over all images in current annotations file\n",
    "    for row in gtReader:\n",
    "        img = rootpath + '/' + row[0]\n",
    "        if grayscale == True:\n",
    "            img = load_img(img, target_size=img_size, color_mode='grayscale')\n",
    "        else:\n",
    "            img = load_img(img, target_size=img_size, color_mode='rgb')\n",
    "\n",
    "        img = img_to_array(img)\n",
    "        img = img/255\n",
    "        img = img.clip(0, 1)\n",
    "        img = exposure.equalize_hist(img)\n",
    "\n",
    "        images.append(img)\n",
    "        labels.append(int(row[7])) # the 8th column is the label\n",
    "    gtFile.close()\n",
    "    return np.array(images), labels"
   ]
  },
  {
   "cell_type": "code",
   "execution_count": 4,
   "metadata": {
    "ExecuteTime": {
     "end_time": "2021-11-28T21:02:28.442074Z",
     "start_time": "2021-11-28T21:02:28.430080Z"
    }
   },
   "outputs": [],
   "source": [
    "signnames_file = 'C:/Users/ElementQi/Desktop/dataScienceProgramming/pythonProject/data/GTSRB/signnames.csv'\n",
    "with open(signnames_file) as f:\n",
    "    f.readline() # Strip the header\n",
    "    tuples = [line.strip().split(',') for line in f]\n",
    "    sign_names = {int(t[0]): t[1] for t in tuples}"
   ]
  },
  {
   "cell_type": "code",
   "execution_count": 5,
   "metadata": {
    "ExecuteTime": {
     "end_time": "2021-11-28T21:02:28.455014Z",
     "start_time": "2021-11-28T21:02:28.443047Z"
    }
   },
   "outputs": [
    {
     "data": {
      "text/plain": [
       "{0: 'Speed limit (20km/h)',\n",
       " 1: 'Speed limit (30km/h)',\n",
       " 2: 'Speed limit (50km/h)',\n",
       " 3: 'Speed limit (60km/h)',\n",
       " 4: 'Speed limit (70km/h)',\n",
       " 5: 'Speed limit (80km/h)',\n",
       " 6: 'End of speed limit (80km/h)',\n",
       " 7: 'Speed limit (100km/h)',\n",
       " 8: 'Speed limit (120km/h)',\n",
       " 9: 'No passing',\n",
       " 10: 'No passing for vechiles over 3.5 metric tons',\n",
       " 11: 'Right-of-way at the next intersection',\n",
       " 12: 'Priority road',\n",
       " 13: 'Yield',\n",
       " 14: 'Stop',\n",
       " 15: 'No vechiles',\n",
       " 16: 'Vechiles over 3.5 metric tons prohibited',\n",
       " 17: 'No entry',\n",
       " 18: 'General caution',\n",
       " 19: 'Dangerous curve to the left',\n",
       " 20: 'Dangerous curve to the right',\n",
       " 21: 'Double curve',\n",
       " 22: 'Bumpy road',\n",
       " 23: 'Slippery road',\n",
       " 24: 'Road narrows on the right',\n",
       " 25: 'Road work',\n",
       " 26: 'Traffic signals',\n",
       " 27: 'Pedestrians',\n",
       " 28: 'Children crossing',\n",
       " 29: 'Bicycles crossing',\n",
       " 30: 'Beware of ice/snow',\n",
       " 31: 'Wild animals crossing',\n",
       " 32: 'End of all speed and passing limits',\n",
       " 33: 'Turn right ahead',\n",
       " 34: 'Turn left ahead',\n",
       " 35: 'Ahead only',\n",
       " 36: 'Go straight or right',\n",
       " 37: 'Go straight or left',\n",
       " 38: 'Keep right',\n",
       " 39: 'Keep left',\n",
       " 40: 'Roundabout mandatory',\n",
       " 41: 'End of no passing',\n",
       " 42: 'End of no passing by vechiles over 3.5 metric tons'}"
      ]
     },
     "execution_count": 5,
     "metadata": {},
     "output_type": "execute_result"
    }
   ],
   "source": [
    "sign_names"
   ]
  },
  {
   "cell_type": "code",
   "execution_count": 6,
   "metadata": {
    "ExecuteTime": {
     "end_time": "2021-11-28T21:02:50.360423Z",
     "start_time": "2021-11-28T21:02:28.456011Z"
    }
   },
   "outputs": [
    {
     "name": "stderr",
     "output_type": "stream",
     "text": [
      "c:\\users\\elementqi\\appdata\\local\\programs\\python\\python37\\lib\\site-packages\\skimage\\exposure\\exposure.py:181: UserWarning: This might be a color image. The histogram will be computed on the flattened image. You can instead apply this function to each color channel.\n",
      "  hist, bin_centers = histogram(image, nbins)\n"
     ]
    }
   ],
   "source": [
    "train_path = 'C:/Users/ElementQi/Desktop/dataScienceProgramming/pythonProject/data/GTSRB/Final_Training/Images'\n",
    "test_path = 'C:/Users/ElementQi/Desktop/dataScienceProgramming/pythonProject/data/GTSRB/Final_Test/Images'\n",
    "\n",
    "img_size = (32,32)\n",
    "gray=True\n",
    "X_train, y_train = readTrafficSigns(train_path, img_size=img_size, grayscale=gray)\n",
    "X_test, y_test = readTrafficSigns_test(test_path, img_size=img_size, grayscale=gray)"
   ]
  },
  {
   "cell_type": "code",
   "execution_count": 7,
   "metadata": {
    "ExecuteTime": {
     "end_time": "2021-11-28T21:02:50.366269Z",
     "start_time": "2021-11-28T21:02:50.361282Z"
    }
   },
   "outputs": [
    {
     "name": "stdout",
     "output_type": "stream",
     "text": [
      "Number of training examples = 39209\n",
      "Number of testing examples = 12630\n",
      "Image data shape = (32, 32, 1)\n",
      "Class number = 43\n"
     ]
    }
   ],
   "source": [
    "n_train = len(X_train)\n",
    "n_test = len(X_test)\n",
    "image_shape = X_train[0].shape\n",
    "n_classes = len(set(y_train))\n",
    "\n",
    "print(\"Number of training examples =\", n_train)\n",
    "# print(\"Number of validation examples =\", n_valid)\n",
    "print(\"Number of testing examples =\", n_test)\n",
    "print(\"Image data shape =\", image_shape)\n",
    "print(\"Class number =\", n_classes)"
   ]
  },
  {
   "cell_type": "code",
   "execution_count": 8,
   "metadata": {
    "ExecuteTime": {
     "end_time": "2021-11-28T21:02:50.465004Z",
     "start_time": "2021-11-28T21:02:50.368264Z"
    }
   },
   "outputs": [
    {
     "data": {
      "image/png": "[encoded data removed]",
      "text/plain": [
       "<Figure size 432x288 with 1 Axes>"
      ]
     },
     "metadata": {
      "needs_background": "light"
     },
     "output_type": "display_data"
    }
   ],
   "source": [
    "plt.imshow(array_to_img(X_train[35456]), cmap='gray')\n",
    "plt.show()"
   ]
  },
  {
   "cell_type": "markdown",
   "metadata": {},
   "source": [
    "# Include an exploratory visualization of the dataset"
   ]
  },
  {
   "cell_type": "code",
   "execution_count": 9,
   "metadata": {
    "ExecuteTime": {
     "end_time": "2021-11-28T21:02:50.980658Z",
     "start_time": "2021-11-28T21:02:50.466002Z"
    }
   },
   "outputs": [
    {
     "data": {
      "image/png": "[encoded data removed]",
      "text/plain": [
       "<Figure size 1080x288 with 1 Axes>"
      ]
     },
     "metadata": {
      "needs_background": "light"
     },
     "output_type": "display_data"
    },
    {
     "data": {
      "image/png": "[encoded data removed]",
      "text/plain": [
       "<Figure size 1080x288 with 1 Axes>"
      ]
     },
     "metadata": {
      "needs_background": "light"
     },
     "output_type": "display_data"
    }
   ],
   "source": [
    "### Data exploration visualization code goes here.\n",
    "\n",
    "# Plot Training / Test summary counts\n",
    "for (data, name) in [[y_train, \"training\"], [y_test, \"test\"]]:\n",
    "    df = pd.DataFrame({'label': data})\n",
    "    counts = df.groupby(['label']).agg({'label': 'count'})\n",
    "    counts.plot(kind='bar', title=\"counts of each sign in %s data\" % name, figsize=(15,4), rot=0)\n",
    "    plt.xlabel(\"sign\")\n",
    "    plt.show()"
   ]
  },
  {
   "cell_type": "code",
   "execution_count": 10,
   "metadata": {
    "ExecuteTime": {
     "end_time": "2021-11-28T21:02:50.984650Z",
     "start_time": "2021-11-28T21:02:50.981623Z"
    }
   },
   "outputs": [],
   "source": [
    "    \n",
    "# # Gather 5 Example images per label\n",
    "# examples_per_sign = 5\n",
    "# total = 0\n",
    "# example = {}\n",
    "# for (img,label) in zip(X_train, y_train):\n",
    "#     example.setdefault(label, [])\n",
    "#     if len(example[label]) < examples_per_sign:\n",
    "#         example[label].append(img)\n",
    "#         total += 1\n",
    "#     if total == n_classes * examples_per_sign:\n",
    "#         break;\n",
    "\n",
    "# for label in sorted(example.keys()):\n",
    "#     fig = plt.figure()\n",
    "#     print(sign_names[label])\n",
    "#     for i in range(examples_per_sign):\n",
    "#         plt.subplot(1,examples_per_sign,i+1)\n",
    "#         plt.imshow(example[label][i])\n",
    "#     plt.show()"
   ]
  },
  {
   "cell_type": "markdown",
   "metadata": {},
   "source": [
    "# Model"
   ]
  },
  {
   "cell_type": "code",
   "execution_count": 11,
   "metadata": {
    "ExecuteTime": {
     "end_time": "2021-11-28T21:02:50.995586Z",
     "start_time": "2021-11-28T21:02:50.985613Z"
    }
   },
   "outputs": [],
   "source": [
    "from keras.models import Sequential\n",
    "# from keras.optimizers import adadelta_v2\n",
    "from tensorflow.keras.optimizers import Adadelta\n",
    "from keras.layers import Dense,Flatten,Dropout,BatchNormalization\n",
    "from keras.layers.advanced_activations import LeakyReLU\n",
    "from keras.layers.convolutional import Conv2D,MaxPooling2D\n",
    "from keras.utils.np_utils import to_categorical\n",
    "from keras.datasets import mnist\n",
    "from keras.callbacks import ModelCheckpoint, CSVLogger"
   ]
  },
  {
   "cell_type": "code",
   "execution_count": 12,
   "metadata": {
    "ExecuteTime": {
     "end_time": "2021-11-28T21:02:51.006556Z",
     "start_time": "2021-11-28T21:02:50.996583Z"
    }
   },
   "outputs": [],
   "source": [
    "def ImLeNet(X_train,Y_train):\n",
    "    model=Sequential()\n",
    "    \n",
    "    model.add(Conv2D(filters=60,kernel_size=(5,5),strides=(1,1),input_shape=(32,32,1),padding='valid',kernel_initializer='uniform'))  #[None,28,28,5]\n",
    "    model.add(LeakyReLU(alpha=0.1))\n",
    "    model.add(BatchNormalization())\n",
    "    \n",
    "    model.add(Conv2D(filters=60,kernel_size=(5,5),strides=(1,1),padding='valid',kernel_initializer='uniform'))  #[None,28,28,5]\n",
    "    model.add(LeakyReLU(alpha=0.1))\n",
    "    model.add(BatchNormalization())\n",
    "    \n",
    "    model.add(MaxPooling2D((2,2)))\n",
    "\n",
    "    model.add(Conv2D(filters=30,kernel_size=(3,3),strides=(1,1),padding='valid',kernel_initializer='uniform'))  #[None,28,28,5]\n",
    "    model.add(LeakyReLU(alpha=0.1))\n",
    "    model.add(BatchNormalization())\n",
    "    \n",
    "    model.add(Conv2D(filters=30,kernel_size=(3,3),strides=(1,1),padding='valid',kernel_initializer='uniform'))  #[None,28,28,5]\n",
    "    model.add(LeakyReLU(alpha=0.1))\n",
    "    model.add(BatchNormalization())\n",
    "    \n",
    "    model.add(MaxPooling2D((2,2)))\n",
    "    model.add(Dropout(0.5))\n",
    "\n",
    "    model.add(Flatten(data_format='channels_last'))\n",
    "    \n",
    "    model.add(Dense(500))\n",
    "    model.add(LeakyReLU(alpha=0.1))\n",
    "    \n",
    "    model.add(Dropout(0.5))\n",
    "    model.add(Dense(43,activation='softmax'))\n",
    "    #打印参数\n",
    "    model.summary()\n",
    "    #编译模型\n",
    "    model.compile(optimizer=Adadelta(learning_rate=1),loss='categorical_crossentropy', metrics=['accuracy'])\n",
    "\n",
    "    return model"
   ]
  },
  {
   "cell_type": "code",
   "execution_count": 13,
   "metadata": {
    "ExecuteTime": {
     "end_time": "2021-11-28T21:02:51.016530Z",
     "start_time": "2021-11-28T21:02:51.007554Z"
    }
   },
   "outputs": [],
   "source": [
    "filepath=\"weights.best.hdf5\"\n",
    "checkpoint= ModelCheckpoint(filepath, monitor='val_accuracy', verbose=1, save_best_only=True, mode='max')\n",
    "\n",
    "# checkpoint = ModelCheckpoint(filepath=\"/tmp/weights.hdf5\", verbose=1, save_best_only=True)\n",
    "csv_logger = CSVLogger('training.log')\n",
    "\n",
    "callbacks_list= [checkpoint, csv_logger]"
   ]
  },
  {
   "cell_type": "code",
   "execution_count": 14,
   "metadata": {
    "ExecuteTime": {
     "end_time": "2021-11-28T21:39:54.282452Z",
     "start_time": "2021-11-28T21:02:51.017527Z"
    },
    "scrolled": false
   },
   "outputs": [
    {
     "name": "stdout",
     "output_type": "stream",
     "text": [
      "Model: \"sequential_1\"\n",
      "_________________________________________________________________\n",
      "Layer (type)                 Output Shape              Param #   \n",
      "=================================================================\n",
      "conv2d_1 (Conv2D)            (None, 28, 28, 60)        1560      \n",
      "_________________________________________________________________\n",
      "leaky_re_lu_1 (LeakyReLU)    (None, 28, 28, 60)        0         \n",
      "_________________________________________________________________\n",
      "batch_normalization_1 (Batch (None, 28, 28, 60)        240       \n",
      "_________________________________________________________________\n",
      "conv2d_2 (Conv2D)            (None, 24, 24, 60)        90060     \n",
      "_________________________________________________________________\n",
      "leaky_re_lu_2 (LeakyReLU)    (None, 24, 24, 60)        0         \n",
      "_________________________________________________________________\n",
      "batch_normalization_2 (Batch (None, 24, 24, 60)        240       \n",
      "_________________________________________________________________\n",
      "max_pooling2d_1 (MaxPooling2 (None, 12, 12, 60)        0         \n",
      "_________________________________________________________________\n",
      "conv2d_3 (Conv2D)            (None, 10, 10, 30)        16230     \n",
      "_________________________________________________________________\n",
      "leaky_re_lu_3 (LeakyReLU)    (None, 10, 10, 30)        0         \n",
      "_________________________________________________________________\n",
      "batch_normalization_3 (Batch (None, 10, 10, 30)        120       \n",
      "_________________________________________________________________\n",
      "conv2d_4 (Conv2D)            (None, 8, 8, 30)          8130      \n",
      "_________________________________________________________________\n",
      "leaky_re_lu_4 (LeakyReLU)    (None, 8, 8, 30)          0         \n",
      "_________________________________________________________________\n",
      "batch_normalization_4 (Batch (None, 8, 8, 30)          120       \n",
      "_________________________________________________________________\n",
      "max_pooling2d_2 (MaxPooling2 (None, 4, 4, 30)          0         \n",
      "_________________________________________________________________\n",
      "dropout_1 (Dropout)          (None, 4, 4, 30)          0         \n",
      "_________________________________________________________________\n",
      "flatten_1 (Flatten)          (None, 480)               0         \n",
      "_________________________________________________________________\n",
      "dense_1 (Dense)              (None, 500)               240500    \n",
      "_________________________________________________________________\n",
      "leaky_re_lu_5 (LeakyReLU)    (None, 500)               0         \n",
      "_________________________________________________________________\n",
      "dropout_2 (Dropout)          (None, 500)               0         \n",
      "_________________________________________________________________\n",
      "dense_2 (Dense)              (None, 43)                21543     \n",
      "=================================================================\n",
      "Total params: 378,743\n",
      "Trainable params: 378,383\n",
      "Non-trainable params: 360\n",
      "_________________________________________________________________\n",
      "Train on 39209 samples, validate on 12630 samples\n",
      "Epoch 1/20\n",
      "39209/39209 [==============================] - 17s 442us/step - loss: 0.7395 - accuracy: 0.7945 - val_loss: 0.3788 - val_accuracy: 0.8926\n",
      "\n",
      "Epoch 00001: val_accuracy improved from -inf to 0.89264, saving model to weights.best.hdf5\n",
      "Epoch 2/20\n",
      "  500/39209 [..............................] - ETA: 12s - loss: 0.2828 - accuracy: 0.9200"
     ]
    },
    {
     "name": "stderr",
     "output_type": "stream",
     "text": [
      "c:\\users\\elementqi\\appdata\\local\\programs\\python\\python37\\lib\\site-packages\\keras\\engine\\saving.py:165: UserWarning: TensorFlow optimizers do not make it possible to access optimizer attributes or optimizer state after instantiation. As a result, we cannot save the optimizer as part of the model save file.You will have to compile your model again after loading it. Prefer using a Keras optimizer instead (see keras.io/optimizers).\n",
      "  'TensorFlow optimizers do not '\n"
     ]
    },
    {
     "name": "stdout",
     "output_type": "stream",
     "text": [
      "39209/39209 [==============================] - 15s 381us/step - loss: 0.1960 - accuracy: 0.9399 - val_loss: 0.1926 - val_accuracy: 0.9473\n",
      "\n",
      "Epoch 00002: val_accuracy improved from 0.89264 to 0.94727, saving model to weights.best.hdf5\n",
      "Epoch 3/20\n",
      "39209/39209 [==============================] - 15s 389us/step - loss: 0.1284 - accuracy: 0.9621 - val_loss: 0.2754 - val_accuracy: 0.9270\n",
      "\n",
      "Epoch 00003: val_accuracy did not improve from 0.94727\n",
      "Epoch 4/20\n",
      "39209/39209 [==============================] - 15s 389us/step - loss: 0.0975 - accuracy: 0.9712 - val_loss: 0.1920 - val_accuracy: 0.9478\n",
      "\n",
      "Epoch 00004: val_accuracy improved from 0.94727 to 0.94782, saving model to weights.best.hdf5\n",
      "Epoch 5/20\n",
      "39209/39209 [==============================] - 49s 1ms/step - loss: 0.0841 - accuracy: 0.9753 - val_loss: 0.2088 - val_accuracy: 0.9480\n",
      "\n",
      "Epoch 00005: val_accuracy improved from 0.94782 to 0.94798, saving model to weights.best.hdf5\n",
      "Epoch 6/20\n",
      "39209/39209 [==============================] - 143s 4ms/step - loss: 0.0671 - accuracy: 0.9798 - val_loss: 0.1643 - val_accuracy: 0.9616\n",
      "\n",
      "Epoch 00006: val_accuracy improved from 0.94798 to 0.96160, saving model to weights.best.hdf5\n",
      "Epoch 7/20\n",
      "39209/39209 [==============================] - 142s 4ms/step - loss: 0.0567 - accuracy: 0.9826 - val_loss: 0.1461 - val_accuracy: 0.9681\n",
      "\n",
      "Epoch 00007: val_accuracy improved from 0.96160 to 0.96809, saving model to weights.best.hdf5\n",
      "Epoch 8/20\n",
      "39209/39209 [==============================] - 143s 4ms/step - loss: 0.0515 - accuracy: 0.9837 - val_loss: 0.1565 - val_accuracy: 0.9616\n",
      "\n",
      "Epoch 00008: val_accuracy did not improve from 0.96809\n",
      "Epoch 9/20\n",
      "39209/39209 [==============================] - 142s 4ms/step - loss: 0.0505 - accuracy: 0.9846 - val_loss: 0.1400 - val_accuracy: 0.9681\n",
      "\n",
      "Epoch 00009: val_accuracy did not improve from 0.96809\n",
      "Epoch 10/20\n",
      "39209/39209 [==============================] - 134s 3ms/step - loss: 0.0461 - accuracy: 0.9865 - val_loss: 0.1326 - val_accuracy: 0.9679\n",
      "\n",
      "Epoch 00010: val_accuracy did not improve from 0.96809\n",
      "Epoch 11/20\n",
      "39209/39209 [==============================] - 130s 3ms/step - loss: 0.0383 - accuracy: 0.9881 - val_loss: 0.1418 - val_accuracy: 0.9679\n",
      "\n",
      "Epoch 00011: val_accuracy did not improve from 0.96809\n",
      "Epoch 12/20\n",
      "39209/39209 [==============================] - 131s 3ms/step - loss: 0.0361 - accuracy: 0.9890 - val_loss: 0.1284 - val_accuracy: 0.9709\n",
      "\n",
      "Epoch 00012: val_accuracy improved from 0.96809 to 0.97094, saving model to weights.best.hdf5\n",
      "Epoch 13/20\n",
      "39209/39209 [==============================] - 130s 3ms/step - loss: 0.0337 - accuracy: 0.9903 - val_loss: 0.1335 - val_accuracy: 0.9699\n",
      "\n",
      "Epoch 00013: val_accuracy did not improve from 0.97094\n",
      "Epoch 14/20\n",
      "39209/39209 [==============================] - 133s 3ms/step - loss: 0.0288 - accuracy: 0.9910 - val_loss: 0.1477 - val_accuracy: 0.9673\n",
      "\n",
      "Epoch 00014: val_accuracy did not improve from 0.97094\n",
      "Epoch 15/20\n",
      "39209/39209 [==============================] - 144s 4ms/step - loss: 0.0290 - accuracy: 0.9914 - val_loss: 0.1776 - val_accuracy: 0.9612\n",
      "\n",
      "Epoch 00015: val_accuracy did not improve from 0.97094\n",
      "Epoch 16/20\n",
      "39209/39209 [==============================] - 148s 4ms/step - loss: 0.0261 - accuracy: 0.9923 - val_loss: 0.1662 - val_accuracy: 0.9679\n",
      "\n",
      "Epoch 00016: val_accuracy did not improve from 0.97094\n",
      "Epoch 17/20\n",
      "39209/39209 [==============================] - 148s 4ms/step - loss: 0.0276 - accuracy: 0.9909 - val_loss: 0.1483 - val_accuracy: 0.9693\n",
      "\n",
      "Epoch 00017: val_accuracy did not improve from 0.97094\n",
      "Epoch 18/20\n",
      "39209/39209 [==============================] - 148s 4ms/step - loss: 0.0237 - accuracy: 0.9930 - val_loss: 0.1505 - val_accuracy: 0.9702\n",
      "\n",
      "Epoch 00018: val_accuracy did not improve from 0.97094\n",
      "Epoch 19/20\n",
      "39209/39209 [==============================] - 146s 4ms/step - loss: 0.0236 - accuracy: 0.9928 - val_loss: 0.1519 - val_accuracy: 0.9722\n",
      "\n",
      "Epoch 00019: val_accuracy improved from 0.97094 to 0.97221, saving model to weights.best.hdf5\n",
      "Epoch 20/20\n",
      "39209/39209 [==============================] - 146s 4ms/step - loss: 0.0215 - accuracy: 0.9931 - val_loss: 0.1414 - val_accuracy: 0.9715\n",
      "\n",
      "Epoch 00020: val_accuracy did not improve from 0.97221\n"
     ]
    }
   ],
   "source": [
    "if __name__==\"__main__\":\n",
    "    y_train = to_categorical(y_train, n_classes)\n",
    "    y_test = to_categorical(y_test, n_classes)\n",
    "    \n",
    "    model=ImLeNet(X_train,y_train)\n",
    "    model.fit(x=X_train,y=y_train, batch_size=20,epochs=20,verbose=1,validation_data=(X_test,y_test),callbacks=callbacks_list)"
   ]
  },
  {
   "cell_type": "code",
   "execution_count": 15,
   "metadata": {
    "ExecuteTime": {
     "end_time": "2021-11-28T21:40:05.350111Z",
     "start_time": "2021-11-28T21:39:54.283450Z"
    }
   },
   "outputs": [
    {
     "name": "stdout",
     "output_type": "stream",
     "text": [
      "12630/12630 [==============================] - 11s 876us/step\n"
     ]
    },
    {
     "data": {
      "text/plain": [
       "[0.1414543148213731, 0.9714964628219604]"
      ]
     },
     "execution_count": 15,
     "metadata": {},
     "output_type": "execute_result"
    }
   ],
   "source": [
    "model.evaluate(x=X_test,y=y_test)"
   ]
  },
  {
   "cell_type": "code",
   "execution_count": 16,
   "metadata": {
    "ExecuteTime": {
     "end_time": "2021-11-28T21:40:15.074204Z",
     "start_time": "2021-11-28T21:40:05.351109Z"
    }
   },
   "outputs": [
    {
     "name": "stdout",
     "output_type": "stream",
     "text": [
      "12630/12630 [==============================] - 10s 769us/step\n",
      "loss:0.1414543148213731===acc:0.9714964628219604\n"
     ]
    }
   ],
   "source": [
    "loss,acc=model.evaluate(x=X_test,y=y_test)\n",
    "print(\"loss:{}===acc:{}\".format(loss,acc))"
   ]
  },
  {
   "cell_type": "code",
   "execution_count": 17,
   "metadata": {
    "ExecuteTime": {
     "end_time": "2021-11-28T21:40:15.081186Z",
     "start_time": "2021-11-28T21:40:15.075201Z"
    }
   },
   "outputs": [
    {
     "data": {
      "text/plain": [
       "{'batch_size': 20,\n",
       " 'epochs': 20,\n",
       " 'steps': None,\n",
       " 'samples': 39209,\n",
       " 'verbose': 1,\n",
       " 'do_validation': True,\n",
       " 'metrics': ['loss', 'accuracy', 'val_loss', 'val_accuracy']}"
      ]
     },
     "execution_count": 17,
     "metadata": {},
     "output_type": "execute_result"
    }
   ],
   "source": [
    "csv_logger.params"
   ]
  },
  {
   "cell_type": "code",
   "execution_count": null,
   "metadata": {},
   "outputs": [],
   "source": []
  }
 ],
 "metadata": {
  "kernelspec": {
   "display_name": "Python 3",
   "language": "python",
   "name": "python3"
  },
  "language_info": {
   "codemirror_mode": {
    "name": "ipython",
    "version": 3
   },
   "file_extension": ".py",
   "mimetype": "text/x-python",
   "name": "python",
   "nbconvert_exporter": "python",
   "pygments_lexer": "ipython3",
   "version": "3.7.3"
  }
 },
 "nbformat": 4,
 "nbformat_minor": 4
}
